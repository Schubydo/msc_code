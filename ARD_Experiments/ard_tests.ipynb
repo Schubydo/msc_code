{
 "cells": [
  {
   "cell_type": "code",
   "execution_count": 4,
   "metadata": {},
   "outputs": [
    {
     "name": "stdout",
     "output_type": "stream",
     "text": [
      "Lengthscales of the kernel:  [0.12474982 1.52406303]\n",
      "[1.         0.08185345]\n"
     ]
    }
   ],
   "source": [
    "from bayesian_optimization import BayesianOptimization\n",
    "import pandas as pd \n",
    "from botorch.test_functions import Ackley\n",
    "from botorch.test_functions import Levy \n",
    "from botorch.test_functions import Rosenbrock\n",
    "from varstool import DVARS\n",
    "import seaborn as sns\n",
    "import matplotlib.pyplot as plt\n",
    "import numpy as np \n",
    "\n",
    "# Variables that determine the size of the dataset\n",
    "N_INITIAL = 50\n",
    "EPOCHS = 10\n",
    "BATCH_SIZE = 5\n",
    "DIM = 2\n",
    "LOWER = -10\n",
    "UPPER = 10\n",
    "\n",
    "optimizer = BayesianOptimization(fun=Levy(dim=DIM,negate=True), \n",
    "                                 batch_size=BATCH_SIZE, \n",
    "                                 dim=DIM, \n",
    "                                 epochs=EPOCHS, \n",
    "                                 n_init=N_INITIAL, \n",
    "                                 lower_bound=LOWER,\n",
    "                                 upper_bound=UPPER,\n",
    "                                 seed=3,\n",
    "                                 acqf_type='qUCB')\n",
    "\n",
    "x_max, y_max, lengthscales = optimizer.run()\n",
    "data = optimizer.get_data()\n",
    "full = optimizer.format(data, dim=DIM, n_init=N_INITIAL, batch_size=BATCH_SIZE, epochs=EPOCHS)\n",
    "rel_ARD = np.zeros(DIM)\n",
    "rel_ARD = rel_ARD + 1/lengthscales\n",
    "rel_ARD_nor = rel_ARD/np.max(rel_ARD)\n",
    "print(rel_ARD_nor)"
   ]
  }
 ],
 "metadata": {
  "kernelspec": {
   "display_name": "msc_project",
   "language": "python",
   "name": "python3"
  },
  "language_info": {
   "codemirror_mode": {
    "name": "ipython",
    "version": 3
   },
   "file_extension": ".py",
   "mimetype": "text/x-python",
   "name": "python",
   "nbconvert_exporter": "python",
   "pygments_lexer": "ipython3",
   "version": "3.12.3"
  },
  "orig_nbformat": 4
 },
 "nbformat": 4,
 "nbformat_minor": 2
}
