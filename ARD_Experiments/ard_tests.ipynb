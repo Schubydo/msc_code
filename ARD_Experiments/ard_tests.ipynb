{
 "cells": [
  {
   "cell_type": "code",
   "execution_count": 20,
   "metadata": {},
   "outputs": [
    {
     "name": "stdout",
     "output_type": "stream",
     "text": [
      "Lengthscales of the kernel:  [0.07742973 1.17724422]\n",
      "Lengthscales of the kernel:  [0.13782541 1.65013861]\n",
      "Lengthscales of the kernel:  [0.13796939 1.62128364]\n",
      "Lengthscales of the kernel:  [0.12178267 1.20852873]\n",
      "Lengthscales of the kernel:  [0.10363754 1.35707881]\n",
      "Lengthscales of the kernel:  [0.14822805 1.66601765]\n",
      "Lengthscales of the kernel:  [0.12079906 1.49284253]\n",
      "Lengthscales of the kernel:  [0.12607466 1.49792736]\n",
      "Lengthscales of the kernel:  [0.10065379 1.36801667]\n",
      "Lengthscales of the kernel:  [0.1154726  1.44245858]\n",
      "Mean of rel_ARD values: [8.68303283 0.69985075]\n",
      "Standard deviation of rel_ARD values: [1.70905361 0.08283191]\n"
     ]
    }
   ],
   "source": [
    "from bayesian_optimization import BayesianOptimization\n",
    "import pandas as pd \n",
    "from botorch.test_functions import Levy \n",
    "import numpy as np \n",
    "\n",
    "N_INITIAL = 100\n",
    "EPOCHS = 10\n",
    "BATCH_SIZE = 10\n",
    "DIM = 2\n",
    "LOWER = -10\n",
    "UPPER = 10\n",
    "NUM_RUNS = 10\n",
    "\n",
    "\n",
    "rel_ARD_values = np.zeros((NUM_RUNS, DIM))\n",
    "\n",
    "for i in range(NUM_RUNS):\n",
    "    optimizer = BayesianOptimization(fun=Levy(dim=DIM, negate=True), \n",
    "                                     batch_size=BATCH_SIZE, \n",
    "                                     dim=DIM, \n",
    "                                     epochs=EPOCHS, \n",
    "                                     n_init=N_INITIAL, \n",
    "                                     lower_bound=LOWER,\n",
    "                                     upper_bound=UPPER,\n",
    "                                     seed=i,  \n",
    "                                     acqf_type='qUCB')\n",
    "\n",
    "    x_max, y_max, lengthscales = optimizer.run()\n",
    "\n",
    "    rel_ARD = np.zeros(DIM)\n",
    "    rel_ARD += 1 / lengthscales\n",
    "    rel_ARD_values[i, :] = rel_ARD\n",
    "\n",
    "rel_ARD_mean = np.mean(rel_ARD_values, axis=0)\n",
    "rel_ARD_std = np.std(rel_ARD_values, axis=0)\n",
    "\n",
    "print(\"Mean of rel_ARD values:\", rel_ARD_mean)\n",
    "print(\"Standard deviation of rel_ARD values:\", rel_ARD_std)\n"
   ]
  },
  {
   "cell_type": "code",
   "execution_count": 21,
   "metadata": {},
   "outputs": [
    {
     "name": "stdout",
     "output_type": "stream",
     "text": [
      "Lengthscales of the kernel:  [0.06305914 0.04121716]\n",
      "Lengthscales of the kernel:  [0.06690231 0.06938794]\n",
      "Lengthscales of the kernel:  [0.03695227 0.06761522]\n",
      "Lengthscales of the kernel:  [0.04590591 0.07470679]\n",
      "Lengthscales of the kernel:  [0.04270812 0.07056953]\n",
      "Lengthscales of the kernel:  [0.05801812 0.04509426]\n",
      "Lengthscales of the kernel:  [0.08024658 0.04750557]\n",
      "Lengthscales of the kernel:  [0.04458535 0.05938944]\n",
      "Lengthscales of the kernel:  [0.06494556 0.08026074]\n",
      "Lengthscales of the kernel:  [0.06709352 0.06783215]\n",
      "Mean of rel_ARD values: [18.54942237 16.82847309]\n",
      "Standard deviation of rel_ARD values: [4.51520362 3.92462632]\n"
     ]
    }
   ],
   "source": [
    "from bayesian_optimization import BayesianOptimization\n",
    "import pandas as pd \n",
    "from botorch.test_functions import Ackley \n",
    "import numpy as np \n",
    "\n",
    "N_INITIAL = 100\n",
    "EPOCHS = 10\n",
    "BATCH_SIZE = 10\n",
    "DIM = 2\n",
    "LOWER = -32.768\n",
    "UPPER = 32.768\n",
    "NUM_RUNS = 10\n",
    "\n",
    "\n",
    "rel_ARD_values = np.zeros((NUM_RUNS, DIM))\n",
    "\n",
    "for i in range(NUM_RUNS):\n",
    "    optimizer = BayesianOptimization(fun=Ackley(dim=DIM, negate=True), \n",
    "                                     batch_size=BATCH_SIZE, \n",
    "                                     dim=DIM, \n",
    "                                     epochs=EPOCHS, \n",
    "                                     n_init=N_INITIAL, \n",
    "                                     lower_bound=LOWER,\n",
    "                                     upper_bound=UPPER,\n",
    "                                     seed=i,  \n",
    "                                     acqf_type='qUCB')\n",
    "\n",
    "    x_max, y_max, lengthscales = optimizer.run()\n",
    "\n",
    "    rel_ARD = np.zeros(DIM)\n",
    "    rel_ARD += 1 / lengthscales    \n",
    "    rel_ARD_values[i, :] = rel_ARD\n",
    "\n",
    "rel_ARD_mean = np.mean(rel_ARD_values, axis=0)\n",
    "rel_ARD_std = np.std(rel_ARD_values, axis=0)\n",
    "\n",
    "print(\"Mean of rel_ARD values:\", rel_ARD_mean)\n",
    "print(\"Standard deviation of rel_ARD values:\", rel_ARD_std)\n"
   ]
  }
 ],
 "metadata": {
  "kernelspec": {
   "display_name": "msc_project",
   "language": "python",
   "name": "python3"
  },
  "language_info": {
   "codemirror_mode": {
    "name": "ipython",
    "version": 3
   },
   "file_extension": ".py",
   "mimetype": "text/x-python",
   "name": "python",
   "nbconvert_exporter": "python",
   "pygments_lexer": "ipython3",
   "version": "3.12.3"
  },
  "orig_nbformat": 4
 },
 "nbformat": 4,
 "nbformat_minor": 2
}
