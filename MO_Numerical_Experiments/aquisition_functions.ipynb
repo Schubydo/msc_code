{
 "cells": [
  {
   "cell_type": "code",
   "execution_count": 1,
   "metadata": {},
   "outputs": [
    {
     "name": "stderr",
     "output_type": "stream",
     "text": [
      "/Users/dylanschubert/anaconda3/envs/msc_project/lib/python3.12/site-packages/tqdm/auto.py:21: TqdmWarning: IProgress not found. Please update jupyter and ipywidgets. See https://ipywidgets.readthedocs.io/en/stable/user_install.html\n",
      "  from .autonotebook import tqdm as notebook_tqdm\n"
     ]
    },
    {
     "name": "stdout",
     "output_type": "stream",
     "text": [
      "\n",
      "Batch  1: Hypervolume (random, qNParEGO, qEHVI, qNEHVI) = (26.43, 0.00, 0.00, 2.37), time = 21.59.\n",
      "Batch  2: Hypervolume (random, qNParEGO, qEHVI, qNEHVI) = (26.43, 0.00, 0.00, 2.37), time = 23.99.\n",
      "Batch  3: Hypervolume (random, qNParEGO, qEHVI, qNEHVI) = (26.43, 4.85, 2.37, 10.97), time = 30.18.\n",
      "Batch  4: Hypervolume (random, qNParEGO, qEHVI, qNEHVI) = (26.43, 32.53, 36.59, 28.46), time = 25.75.\n",
      "Batch  5: Hypervolume (random, qNParEGO, qEHVI, qNEHVI) = (26.43, 47.14, 46.72, 36.53), time = 32.94."
     ]
    }
   ],
   "source": [
    "from MOBO_SIM import BayesianOptimization\n",
    "\n",
    "bo = BayesianOptimization(BATCH_SIZE= 4,N_BATCH= 5,INITIAL_SAMPLES= 6)\n",
    "\n",
    "random, qparego, qehvi, qnehvi = bo.run_optimization()"
   ]
  },
  {
   "cell_type": "code",
   "execution_count": 2,
   "metadata": {},
   "outputs": [
    {
     "name": "stdout",
     "output_type": "stream",
     "text": [
      "[0.0, 26.43180478336002, 26.43180478336002, 26.43180478336002, 26.43180478336002, 26.43180478336002]\n"
     ]
    }
   ],
   "source": [
    "print(random)"
   ]
  },
  {
   "cell_type": "code",
   "execution_count": 4,
   "metadata": {},
   "outputs": [
    {
     "name": "stdout",
     "output_type": "stream",
     "text": [
      "[0.0, 0.0, 0.0, 4.848974099581126, 32.53464141409739, 47.14117007001298]\n"
     ]
    }
   ],
   "source": [
    "print(qparego)"
   ]
  },
  {
   "cell_type": "code",
   "execution_count": null,
   "metadata": {},
   "outputs": [],
   "source": []
  }
 ],
 "metadata": {
  "kernelspec": {
   "display_name": "msc_project",
   "language": "python",
   "name": "python3"
  },
  "language_info": {
   "codemirror_mode": {
    "name": "ipython",
    "version": 3
   },
   "file_extension": ".py",
   "mimetype": "text/x-python",
   "name": "python",
   "nbconvert_exporter": "python",
   "pygments_lexer": "ipython3",
   "version": "3.12.3"
  },
  "orig_nbformat": 4
 },
 "nbformat": 4,
 "nbformat_minor": 2
}
