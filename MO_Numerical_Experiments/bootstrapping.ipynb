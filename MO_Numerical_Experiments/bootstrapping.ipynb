{
 "cells": [
  {
   "cell_type": "code",
   "execution_count": null,
   "metadata": {},
   "outputs": [],
   "source": [
    "from bayesian_optimization import BayesianOptimization\n",
    "import pandas as pd \n",
    "from botorch.test_functions import Ackley\n",
    "from botorch.test_functions import Levy \n",
    "\n",
    "# Variables that determine the size of the dataset\n",
    "N_INITIAL = 100\n",
    "EPOCHS = 10\n",
    "BATCH_SIZE = 10\n",
    "DIM = 5\n",
    "# Bounds are 10 for Levy and 32 for Ackley \n",
    "\n",
    "optimizer = BayesianOptimization(fun=Ackley(dim=DIM, negate=True),\n",
    "                                 batch_size=BATCH_SIZE,\n",
    "                                 dim=DIM,\n",
    "                                 epochs=EPOCHS,\n",
    "                                 n_init=N_INITIAL,\n",
    "                                 bound=32,\n",
    "                                 acqf_type='qEI')\n",
    "\n",
    "x_max, y_max = optimizer.run()\n",
    "data = optimizer.get_data()\n",
    "full = optimizer.format(data, dim=DIM, n_init=N_INITIAL, batch_size=BATCH_SIZE, epochs=EPOCHS)\n",
    "display(full)"
   ]
  }
 ],
 "metadata": {
  "language_info": {
   "name": "python"
  },
  "orig_nbformat": 4
 },
 "nbformat": 4,
 "nbformat_minor": 2
}
