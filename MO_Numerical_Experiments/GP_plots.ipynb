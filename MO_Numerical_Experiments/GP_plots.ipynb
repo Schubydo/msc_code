{
 "cells": [
  {
   "cell_type": "code",
   "execution_count": 1,
   "metadata": {},
   "outputs": [
    {
     "name": "stderr",
     "output_type": "stream",
     "text": [
      "/Users/dylanschubert/anaconda3/envs/msc_project/lib/python3.12/site-packages/tqdm/auto.py:21: TqdmWarning: IProgress not found. Please update jupyter and ipywidgets. See https://ipywidgets.readthedocs.io/en/stable/user_install.html\n",
      "  from .autonotebook import tqdm as notebook_tqdm\n"
     ]
    },
    {
     "ename": "AttributeError",
     "evalue": "'BayesianOptimization' object has no attribute 'train_obj_true_random'",
     "output_type": "error",
     "traceback": [
      "\u001b[0;31m---------------------------------------------------------------------------\u001b[0m",
      "\u001b[0;31mAttributeError\u001b[0m                            Traceback (most recent call last)",
      "\u001b[1;32m/Users/dylanschubert/Documents/GitHub/msc_code/MO_Numerical_Experiments/GP_plots.ipynb Cell 1\u001b[0m line \u001b[0;36m6\n\u001b[1;32m      <a href='vscode-notebook-cell:/Users/dylanschubert/Documents/GitHub/msc_code/MO_Numerical_Experiments/GP_plots.ipynb#W0sZmlsZQ%3D%3D?line=2'>3</a>\u001b[0m \u001b[39mfrom\u001b[39;00m \u001b[39mMOBO_SIM\u001b[39;00m \u001b[39mimport\u001b[39;00m BayesianOptimization\n\u001b[1;32m      <a href='vscode-notebook-cell:/Users/dylanschubert/Documents/GitHub/msc_code/MO_Numerical_Experiments/GP_plots.ipynb#W0sZmlsZQ%3D%3D?line=4'>5</a>\u001b[0m bo \u001b[39m=\u001b[39m BayesianOptimization(BATCH_SIZE\u001b[39m=\u001b[39m\u001b[39m5\u001b[39m, N_BATCH\u001b[39m=\u001b[39m\u001b[39m10\u001b[39m, INITIAL_SAMPLES\u001b[39m=\u001b[39m\u001b[39m10\u001b[39m)\n\u001b[0;32m----> <a href='vscode-notebook-cell:/Users/dylanschubert/Documents/GitHub/msc_code/MO_Numerical_Experiments/GP_plots.ipynb#W0sZmlsZQ%3D%3D?line=5'>6</a>\u001b[0m train_data \u001b[39m=\u001b[39m bo\u001b[39m.\u001b[39;49mreturn_train_obj_true()\n\u001b[1;32m      <a href='vscode-notebook-cell:/Users/dylanschubert/Documents/GitHub/msc_code/MO_Numerical_Experiments/GP_plots.ipynb#W0sZmlsZQ%3D%3D?line=6'>7</a>\u001b[0m \u001b[39mprint\u001b[39m(train_data)\n",
      "File \u001b[0;32m~/Documents/GitHub/msc_code/MO_Numerical_Experiments/MOBO_SIM.py:153\u001b[0m, in \u001b[0;36mBayesianOptimization.return_train_obj_true\u001b[0;34m(self)\u001b[0m\n\u001b[1;32m    152\u001b[0m \u001b[39mdef\u001b[39;00m \u001b[39mreturn_train_obj_true\u001b[39m(\u001b[39mself\u001b[39m):\n\u001b[0;32m--> 153\u001b[0m     \u001b[39mreturn\u001b[39;00m (\u001b[39mself\u001b[39;49m\u001b[39m.\u001b[39;49mtrain_obj_true_random, \n\u001b[1;32m    154\u001b[0m             \u001b[39mself\u001b[39m\u001b[39m.\u001b[39mtrain_obj_true_qparego, \n\u001b[1;32m    155\u001b[0m             \u001b[39mself\u001b[39m\u001b[39m.\u001b[39mtrain_obj_true_qehvi, \n\u001b[1;32m    156\u001b[0m             \u001b[39mself\u001b[39m\u001b[39m.\u001b[39mtrain_obj_true_qnehvi)\n",
      "\u001b[0;31mAttributeError\u001b[0m: 'BayesianOptimization' object has no attribute 'train_obj_true_random'"
     ]
    }
   ],
   "source": [
    "import numpy as np\n",
    "import matplotlib.pyplot as plt\n",
    "from MOBO_SIM import BayesianOptimization\n",
    "\n",
    "bo = BayesianOptimization(BATCH_SIZE=5, N_BATCH=10, INITIAL_SAMPLES=10)\n",
    "train_data = bo.return_train_obj_true()\n",
    "print(train_data)\n"
   ]
  }
 ],
 "metadata": {
  "kernelspec": {
   "display_name": "msc_project",
   "language": "python",
   "name": "python3"
  },
  "language_info": {
   "codemirror_mode": {
    "name": "ipython",
    "version": 3
   },
   "file_extension": ".py",
   "mimetype": "text/x-python",
   "name": "python",
   "nbconvert_exporter": "python",
   "pygments_lexer": "ipython3",
   "version": "3.12.3"
  },
  "orig_nbformat": 4
 },
 "nbformat": 4,
 "nbformat_minor": 2
}
