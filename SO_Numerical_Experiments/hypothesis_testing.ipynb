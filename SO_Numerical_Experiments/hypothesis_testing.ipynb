{
 "cells": [
  {
   "cell_type": "markdown",
   "metadata": {},
   "source": [
    "### Hypothesis test\n",
    "- T test to compare the means of each batch to verify improvement for $i \\in epochs$ \n",
    "- Bootsrapping\n",
    "- Permutation test "
   ]
  },
  {
   "cell_type": "code",
   "execution_count": null,
   "metadata": {},
   "outputs": [],
   "source": [
    "from bayesian_optimization import BayesianOptimization\n",
    "import pandas as pd \n",
    "from botorch.test_functions import Ackley\n",
    "from botorch.test_functions import Levy \n",
    "from botorch.test_functions import Beale\n",
    "from botorch.test_functions import DixonPrice\n",
    "from botorch.test_functions import DropWave\n",
    "from botorch.test_functions import Hartmann\n",
    "from botorch.test_functions import StyblinskiTang\n",
    "# Variables that determine the size of the dataset\n",
    "N_INITIAL = 50\n",
    "EPOCHS = 3\n",
    "BATCH_SIZE = 50\n",
    "DIM = 10\n",
    "LOWER = -5\n",
    "UPPER = 5\n",
    "\n",
    "optimizer = BayesianOptimization(fun=StyblinskiTang(dim=DIM,negate=True), \n",
    "                                 batch_size=BATCH_SIZE, \n",
    "                                 dim=DIM, \n",
    "                                 epochs=EPOCHS, \n",
    "                                 n_init=N_INITIAL, \n",
    "                                 lower_bound=LOWER,\n",
    "                                 upper_bound=UPPER,\n",
    "                                 seed=5,\n",
    "                                 acqf_type='qUCB')\n",
    "\n",
    "x_max, y_max = optimizer.run()\n",
    "data = optimizer.get_data()\n",
    "full = optimizer.format(data, dim=DIM, n_init=N_INITIAL, batch_size=BATCH_SIZE, epochs=EPOCHS)\n",
    "display(full)"
   ]
  },
  {
   "cell_type": "markdown",
   "metadata": {},
   "source": [
    "### Permutation test"
   ]
  },
  {
   "cell_type": "code",
   "execution_count": null,
   "metadata": {},
   "outputs": [],
   "source": [
    "import numpy as np\n",
    "import pandas as pd\n",
    "\n",
    "\n",
    "def permutation_test_max(id2, id1, n_permutations=100000, df=full):\n",
    "    X = df[df['Batch'] == id2][['y']].to_numpy()\n",
    "    Y = df[df['Batch'] == id1][['y']].to_numpy()\n",
    "\n",
    "    np.random.seed(0)\n",
    "    combined = np.concatenate([X, Y])\n",
    "    n = len(X)\n",
    "    obs_diff = np.max(X) - np.max(Y)\n",
    "    \n",
    "    perm_diffs = []\n",
    "    for _ in range(n_permutations):\n",
    "        np.random.shuffle(combined)\n",
    "        X_permuted = combined[:n]\n",
    "        Y_permuted = combined[n:]\n",
    "        max_diff = np.max(X_permuted) - np.max(Y_permuted)\n",
    "        perm_diffs.append(max_diff)\n",
    "        \n",
    "    p_value = np.mean(perm_diffs >= obs_diff)\n",
    "    return np.array(perm_diffs), obs_diff, p_value"
   ]
  },
  {
   "cell_type": "code",
   "execution_count": null,
   "metadata": {},
   "outputs": [],
   "source": [
    "perm_diffs, obs_diff_perm, p_value = permutation_test_max(id2=3, id1=1, n_permutations=10000,df=full)\n",
    "\n",
    "print(f\"Permutation Observed difference of maxima (normalized): {obs_diff_perm}\")\n",
    "print(f\"Permutation p-value: {p_value}\")"
   ]
  },
  {
   "cell_type": "code",
   "execution_count": null,
   "metadata": {},
   "outputs": [],
   "source": [
    "import matplotlib.pyplot as plt\n",
    "\n",
    "plt.hist(perm_diffs, bins=10, edgecolor='k', alpha=0.7)\n",
    "plt.axvline(obs_diff_perm, color='r', linestyle='--', linewidth=2, label='Observed difference')\n",
    "plt.title('Distribution of Permuted Differences of Maxima')\n",
    "plt.xlabel('Difference of Maxima')\n",
    "plt.ylabel('Frequency')\n",
    "plt.legend()\n",
    "plt.show()"
   ]
  },
  {
   "cell_type": "markdown",
   "metadata": {},
   "source": [
    "### T-test"
   ]
  },
  {
   "cell_type": "code",
   "execution_count": null,
   "metadata": {},
   "outputs": [],
   "source": [
    "import pandas as pd\n",
    "from scipy.stats import ttest_ind\n",
    "\n",
    "batches = full['Batch'].unique()\n",
    "ttest_results = []\n",
    "batch_0 = full[full['Batch'] == 0]['y']\n",
    "\n",
    "for t in batches:\n",
    "    if t != 0:\n",
    "        batch_t = full[full['Batch'] == t]['y']\n",
    "        t_stat, p_value = ttest_ind(batch_t, batch_0, alternative='greater')\n",
    "        ttest_results.append({\n",
    "            'Batch': f'Batch {t} vs Batch 0',\n",
    "            't-statistic': round(t_stat, 2),\n",
    "            'p-value': round(p_value, 4)\n",
    "        })\n",
    "\n",
    "# Create a DataFrame\n",
    "results_df = pd.DataFrame(ttest_results)\n",
    "\n",
    "print(results_df)"
   ]
  },
  {
   "cell_type": "markdown",
   "metadata": {},
   "source": [
    "### Bootstrapping"
   ]
  },
  {
   "cell_type": "code",
   "execution_count": null,
   "metadata": {},
   "outputs": [],
   "source": [
    "import numpy as np\n",
    "mport pandas as pd\n",
    "\n",
    "\n",
    "\n",
    "def get_batches(id1,id2,data):\n",
    "    cols = ['Batch','y']\n",
    "    df = data[cols]\n",
    "    y_0 = df[df['Batch'] == id1][['y']].to_numpy()\n",
    "    y_1 = df[df['Batch'] == id2][['y']].to_numpy()\n",
    "    return y_0, y_1\n",
    "\n",
    "\n",
    "def bootstrap_diff_max(X, Y, n_bootstrap=1000):\n",
    "    np.random.seed(0)\n",
    "    max_diffs = []\n",
    "\n",
    "    X = X.squeeze()\n",
    "    Y = Y.squeeze()\n",
    "    \n",
    "    for _ in range(n_bootstrap):\n",
    "        X_resample = np.random.choice(X, size=len(X), replace=True)\n",
    "        Y_resample = np.random.choice(Y, size=len(Y), replace=True)\n",
    "        max_diff = np.max(X_resample) - np.max(Y_resample)\n",
    "        max_diffs.append(max_diff)\n",
    "        \n",
    "    # Calculating the confience intervals    \n",
    "    max_diffs_bootstrap = np.array(max_diffs)\n",
    "    obs_diff = np.max(X) - np.max(Y)\n",
    "    lower_bound_bootstrap = np.percentile(max_diffs_bootstrap, 2.5)\n",
    "    upper_bound_bootstrap = np.percentile(max_diffs_bootstrap, 97.5)\n",
    "    print(f\"Bootstrap Observed difference of maxima: {obs_diff}\")\n",
    "    # print(f\"Bootstrap Observed difference of maxima: {max_diffs_bootstrap}\")\n",
    "    print(f\"Bootstrap 95% Confidence interval: [{lower_bound_bootstrap}, {upper_bound_bootstrap}]\")"
   ]
  },
  {
   "cell_type": "code",
   "execution_count": null,
   "metadata": {},
   "outputs": [],
   "source": [
    "y1, y2 = get_batches(1,0,data)\n",
    "print(y1,y2)\n",
    "\n",
    "bootstrap_diff_max(y1, y2)"
   ]
  }
 ],
 "metadata": {
  "language_info": {
   "name": "python"
  },
  "orig_nbformat": 4
 },
 "nbformat": 4,
 "nbformat_minor": 2
}
