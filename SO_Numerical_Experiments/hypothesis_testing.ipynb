{
 "cells": [
  {
   "cell_type": "markdown",
   "metadata": {},
   "source": [
    "### Hypothesis test\n",
    "- T test to compare the means of each batch to verify improvement for $i \\in epochs$ \n",
    "- Bootsrapping\n",
    "- Permutation test "
   ]
  },
  {
   "cell_type": "code",
   "execution_count": 1,
   "metadata": {},
   "outputs": [
    {
     "name": "stderr",
     "output_type": "stream",
     "text": [
      "/Users/dylanschubert/anaconda3/envs/msc_project/lib/python3.12/site-packages/tqdm/auto.py:21: TqdmWarning: IProgress not found. Please update jupyter and ipywidgets. See https://ipywidgets.readthedocs.io/en/stable/user_install.html\n",
      "  from .autonotebook import tqdm as notebook_tqdm\n"
     ]
    },
    {
     "data": {
      "text/html": [
       "<div>\n",
       "<style scoped>\n",
       "    .dataframe tbody tr th:only-of-type {\n",
       "        vertical-align: middle;\n",
       "    }\n",
       "\n",
       "    .dataframe tbody tr th {\n",
       "        vertical-align: top;\n",
       "    }\n",
       "\n",
       "    .dataframe thead th {\n",
       "        text-align: right;\n",
       "    }\n",
       "</style>\n",
       "<table border=\"1\" class=\"dataframe\">\n",
       "  <thead>\n",
       "    <tr style=\"text-align: right;\">\n",
       "      <th></th>\n",
       "      <th>Batch</th>\n",
       "      <th>x1</th>\n",
       "      <th>x2</th>\n",
       "      <th>y</th>\n",
       "    </tr>\n",
       "  </thead>\n",
       "  <tbody>\n",
       "    <tr>\n",
       "      <th>0</th>\n",
       "      <td>0.0</td>\n",
       "      <td>1.508877</td>\n",
       "      <td>0.368380</td>\n",
       "      <td>2.680798e-04</td>\n",
       "    </tr>\n",
       "    <tr>\n",
       "      <th>1</th>\n",
       "      <td>0.0</td>\n",
       "      <td>2.983848</td>\n",
       "      <td>2.334267</td>\n",
       "      <td>1.065940e-10</td>\n",
       "    </tr>\n",
       "    <tr>\n",
       "      <th>2</th>\n",
       "      <td>0.0</td>\n",
       "      <td>2.011948</td>\n",
       "      <td>1.028061</td>\n",
       "      <td>4.032438e-01</td>\n",
       "    </tr>\n",
       "    <tr>\n",
       "      <th>3</th>\n",
       "      <td>0.0</td>\n",
       "      <td>0.517131</td>\n",
       "      <td>2.993761</td>\n",
       "      <td>8.124531e-07</td>\n",
       "    </tr>\n",
       "    <tr>\n",
       "      <th>4</th>\n",
       "      <td>0.0</td>\n",
       "      <td>0.119094</td>\n",
       "      <td>1.225528</td>\n",
       "      <td>1.651159e-02</td>\n",
       "    </tr>\n",
       "    <tr>\n",
       "      <th>...</th>\n",
       "      <td>...</td>\n",
       "      <td>...</td>\n",
       "      <td>...</td>\n",
       "      <td>...</td>\n",
       "    </tr>\n",
       "    <tr>\n",
       "      <th>145</th>\n",
       "      <td>10.0</td>\n",
       "      <td>2.728338</td>\n",
       "      <td>0.304741</td>\n",
       "      <td>2.998229e-04</td>\n",
       "    </tr>\n",
       "    <tr>\n",
       "      <th>146</th>\n",
       "      <td>10.0</td>\n",
       "      <td>3.008019</td>\n",
       "      <td>3.052706</td>\n",
       "      <td>4.635268e-11</td>\n",
       "    </tr>\n",
       "    <tr>\n",
       "      <th>147</th>\n",
       "      <td>10.0</td>\n",
       "      <td>1.880127</td>\n",
       "      <td>3.088624</td>\n",
       "      <td>1.220009e-01</td>\n",
       "    </tr>\n",
       "    <tr>\n",
       "      <th>148</th>\n",
       "      <td>10.0</td>\n",
       "      <td>2.202785</td>\n",
       "      <td>1.570799</td>\n",
       "      <td>1.801303e+00</td>\n",
       "    </tr>\n",
       "    <tr>\n",
       "      <th>149</th>\n",
       "      <td>10.0</td>\n",
       "      <td>3.078210</td>\n",
       "      <td>1.190319</td>\n",
       "      <td>7.250981e-03</td>\n",
       "    </tr>\n",
       "  </tbody>\n",
       "</table>\n",
       "<p>150 rows × 4 columns</p>\n",
       "</div>"
      ],
      "text/plain": [
       "     Batch        x1        x2             y\n",
       "0      0.0  1.508877  0.368380  2.680798e-04\n",
       "1      0.0  2.983848  2.334267  1.065940e-10\n",
       "2      0.0  2.011948  1.028061  4.032438e-01\n",
       "3      0.0  0.517131  2.993761  8.124531e-07\n",
       "4      0.0  0.119094  1.225528  1.651159e-02\n",
       "..     ...       ...       ...           ...\n",
       "145   10.0  2.728338  0.304741  2.998229e-04\n",
       "146   10.0  3.008019  3.052706  4.635268e-11\n",
       "147   10.0  1.880127  3.088624  1.220009e-01\n",
       "148   10.0  2.202785  1.570799  1.801303e+00\n",
       "149   10.0  3.078210  1.190319  7.250981e-03\n",
       "\n",
       "[150 rows x 4 columns]"
      ]
     },
     "metadata": {},
     "output_type": "display_data"
    }
   ],
   "source": [
    "from bayesian_optimization import BayesianOptimization\n",
    "import pandas as pd \n",
    "import numpy as np\n",
    "from botorch.test_functions import Ackley\n",
    "from botorch.test_functions import Levy \n",
    "from botorch.test_functions import Beale\n",
    "from botorch.test_functions import DixonPrice\n",
    "from botorch.test_functions import DropWave\n",
    "from botorch.test_functions import Hartmann\n",
    "from botorch.test_functions import Michalewicz\n",
    "# Variables that determine the size of the dataset\n",
    "N_INITIAL = 50\n",
    "EPOCHS = 10\n",
    "BATCH_SIZE = 10\n",
    "DIM = 2\n",
    "LOWER = 0\n",
    "UPPER = np.pi\n",
    "\n",
    "optimizer = BayesianOptimization(fun=Michalewicz(dim=DIM,negate=True), \n",
    "                                 batch_size=BATCH_SIZE, \n",
    "                                 dim=DIM, \n",
    "                                 epochs=EPOCHS, \n",
    "                                 n_init=N_INITIAL, \n",
    "                                 lower_bound=LOWER,\n",
    "                                 upper_bound=UPPER,\n",
    "                                 seed=5,\n",
    "                                 acqf_type='qUCB')\n",
    "\n",
    "x_max, y_max = optimizer.run()\n",
    "data = optimizer.get_data()\n",
    "full = optimizer.format(data, dim=DIM, n_init=N_INITIAL, batch_size=BATCH_SIZE, epochs=EPOCHS)\n",
    "display(full)"
   ]
  },
  {
   "cell_type": "markdown",
   "metadata": {},
   "source": [
    "### Permutation test"
   ]
  },
  {
   "cell_type": "code",
   "execution_count": 2,
   "metadata": {},
   "outputs": [],
   "source": [
    "import numpy as np\n",
    "import pandas as pd\n",
    "\n",
    "\n",
    "def permutation_test_max(id2, id1, n_permutations=100000, df=full):\n",
    "    X = df[df['Batch'] == id2][['y']].to_numpy()\n",
    "    Y = df[df['Batch'] == id1][['y']].to_numpy()\n",
    "\n",
    "    np.random.seed(0)\n",
    "    combined = np.concatenate([X, Y])\n",
    "    n = len(X)\n",
    "    obs_diff = np.max(X) - np.max(Y)\n",
    "    \n",
    "    perm_diffs = []\n",
    "    for _ in range(n_permutations):\n",
    "        np.random.shuffle(combined)\n",
    "        X_permuted = combined[:n]\n",
    "        Y_permuted = combined[n:]\n",
    "        max_diff = np.max(X_permuted) - np.max(Y_permuted)\n",
    "        perm_diffs.append(max_diff)\n",
    "        \n",
    "    p_value = np.mean(perm_diffs > obs_diff)\n",
    "    return np.array(perm_diffs), obs_diff, p_value"
   ]
  },
  {
   "cell_type": "code",
   "execution_count": 3,
   "metadata": {},
   "outputs": [
    {
     "name": "stdout",
     "output_type": "stream",
     "text": [
      "Permutation Observed difference of maxima (normalized): 0.804467877775655\n",
      "Permutation p-value: 0.0252\n"
     ]
    }
   ],
   "source": [
    "perm_diffs, obs_diff_perm, p_value = permutation_test_max(id2=10, id1=0, n_permutations=10000,df=full)\n",
    "\n",
    "print(f\"Permutation Observed difference of maxima (normalized): {obs_diff_perm}\")\n",
    "print(f\"Permutation p-value: {p_value}\")"
   ]
  },
  {
   "cell_type": "code",
   "execution_count": 4,
   "metadata": {},
   "outputs": [
    {
     "name": "stdout",
     "output_type": "stream",
     "text": [
      "   Batch  Maxima Difference  P-value\n",
      "0      1           0.343181   0.0268\n",
      "1      2           0.606136   0.0242\n",
      "2      3           0.721537   0.0032\n",
      "3      4           0.720633   0.0252\n",
      "4      5           0.801589   0.0255\n",
      "5      6           0.800170   0.0263\n",
      "6      7           0.804101   0.0261\n",
      "7      8           0.804467   0.0272\n",
      "8      9           0.804457   0.0268\n",
      "9     10           0.804468   0.0252\n"
     ]
    }
   ],
   "source": [
    "results = []\n",
    "\n",
    "for id2 in range(1, 11):\n",
    "    perm_diffs, obs_diff_perm, p_value = permutation_test_max(id2=id2, id1=0, n_permutations=10000, df=full)\n",
    "\n",
    "    results.append({\n",
    "        \"Batch\": id2,\n",
    "        \"Maxima Difference\": obs_diff_perm,\n",
    "        \"P-value\": p_value\n",
    "    })\n",
    "\n",
    "\n",
    "results_df = pd.DataFrame(results)\n",
    "print(results_df)"
   ]
  },
  {
   "cell_type": "code",
   "execution_count": 5,
   "metadata": {},
   "outputs": [
    {
     "data": {
      "image/png": "[encoded data removed]",
      "text/plain": [
       "<Figure size 640x480 with 1 Axes>"
      ]
     },
     "metadata": {},
     "output_type": "display_data"
    }
   ],
   "source": [
    "import matplotlib.pyplot as plt\n",
    "\n",
    "plt.hist(perm_diffs, bins=10, edgecolor='k', alpha=0.7)\n",
    "plt.axvline(obs_diff_perm, color='r', linestyle='--', linewidth=2, label='Observed difference')\n",
    "plt.title('Distribution of Permuted Differences of Maxima')\n",
    "plt.xlabel('Difference of Maxima')\n",
    "plt.ylabel('Frequency')\n",
    "plt.legend()\n",
    "plt.show()"
   ]
  },
  {
   "cell_type": "markdown",
   "metadata": {},
   "source": [
    "### T-test"
   ]
  },
  {
   "cell_type": "code",
   "execution_count": 6,
   "metadata": {},
   "outputs": [
    {
     "name": "stdout",
     "output_type": "stream",
     "text": [
      "                   Batch  t-statistic  p-value\n",
      "0   Batch 1.0 vs Batch 0         1.83   0.0363\n",
      "1   Batch 2.0 vs Batch 0        -0.04   0.5139\n",
      "2   Batch 3.0 vs Batch 0         1.33   0.0941\n",
      "3   Batch 4.0 vs Batch 0         1.19   0.1196\n",
      "4   Batch 5.0 vs Batch 0         0.56   0.2896\n",
      "5   Batch 6.0 vs Batch 0         0.82   0.2077\n",
      "6   Batch 7.0 vs Batch 0         0.65   0.2582\n",
      "7   Batch 8.0 vs Batch 0         1.69   0.0483\n",
      "8   Batch 9.0 vs Batch 0         0.28   0.3895\n",
      "9  Batch 10.0 vs Batch 0         1.03   0.1547\n"
     ]
    }
   ],
   "source": [
    "import pandas as pd\n",
    "from scipy.stats import ttest_ind\n",
    "\n",
    "batches = full['Batch'].unique()\n",
    "ttest_results = []\n",
    "batch_0 = full[full['Batch'] == 0]['y']\n",
    "\n",
    "for t in batches:\n",
    "    if t != 0:\n",
    "        batch_t = full[full['Batch'] == t]['y']\n",
    "        t_stat, p_value = ttest_ind(batch_t, batch_0, alternative='greater')\n",
    "        ttest_results.append({\n",
    "            'Batch': f'Batch {t} vs Batch 0',\n",
    "            't-statistic': round(t_stat, 2),\n",
    "            'p-value': round(p_value, 4)\n",
    "        })\n",
    "\n",
    "# Create a DataFrame\n",
    "results_df = pd.DataFrame(ttest_results)\n",
    "\n",
    "print(results_df)"
   ]
  },
  {
   "cell_type": "markdown",
   "metadata": {},
   "source": [
    "### Bootstrapping"
   ]
  },
  {
   "cell_type": "code",
   "execution_count": 102,
   "metadata": {},
   "outputs": [],
   "source": [
    "import numpy as np\n",
    "import pandas as pd\n",
    "\n",
    "\n",
    "\n",
    "def get_batches(id1,id2,data):\n",
    "    cols = ['Batch','y']\n",
    "    df = data[cols]\n",
    "    y_0 = df[df['Batch'] == id1][['y']].to_numpy()\n",
    "    y_1 = df[df['Batch'] == id2][['y']].to_numpy()\n",
    "    return y_0, y_1\n",
    "\n",
    "\n",
    "def bootstrap_diff_max(X, Y, n_bootstrap=1000):\n",
    "    np.random.seed(0)\n",
    "    max_diffs = []\n",
    "\n",
    "    X = X.squeeze()\n",
    "    Y = Y.squeeze()\n",
    "    \n",
    "    for _ in range(n_bootstrap):\n",
    "        X_resample = np.random.choice(X, size=len(X), replace=True)\n",
    "        Y_resample = np.random.choice(Y, size=len(Y), replace=True)\n",
    "        max_diff = np.max(X_resample) - np.max(Y_resample)\n",
    "        max_diffs.append(max_diff)\n",
    "        \n",
    "    # Calculating the confience intervals    \n",
    "    max_diffs_bootstrap = np.array(max_diffs)\n",
    "    obs_diff = np.max(X) - np.max(Y)\n",
    "    lower_bound_bootstrap = np.percentile(max_diffs_bootstrap, 5)\n",
    "    upper_bound_bootstrap = np.percentile(max_diffs_bootstrap, 100)\n",
    "    print(f\"Bootstrap Observed difference of maxima: {obs_diff}\")\n",
    "    # print(f\"Bootstrap Observed difference of maxima: {max_diffs_bootstrap}\")\n",
    "    print(f\"Bootstrap 95% Confidence interval: [{lower_bound_bootstrap}, {upper_bound_bootstrap}]\")"
   ]
  },
  {
   "cell_type": "code",
   "execution_count": 109,
   "metadata": {},
   "outputs": [
    {
     "name": "stdout",
     "output_type": "stream",
     "text": [
      "[[3.82446782e-02]\n",
      " [5.69023118e-02]\n",
      " [7.79122559e-01]\n",
      " [1.56517583e-02]\n",
      " [5.30125005e-01]\n",
      " [2.56776098e-25]\n",
      " [1.09926055e-10]\n",
      " [1.90301935e-01]\n",
      " [3.92558193e-01]\n",
      " [1.80130328e+00]] [[2.68079818e-04]\n",
      " [1.06593958e-10]\n",
      " [4.03243806e-01]\n",
      " [8.12453146e-07]\n",
      " [1.65115898e-02]\n",
      " [1.07697953e-03]\n",
      " [3.32683504e-02]\n",
      " [2.47670762e-01]\n",
      " [7.37395309e-06]\n",
      " [2.32999223e-01]\n",
      " [8.52106509e-02]\n",
      " [5.89223805e-06]\n",
      " [5.93997234e-13]\n",
      " [8.58931176e-01]\n",
      " [9.89984836e-01]\n",
      " [3.94393803e-01]\n",
      " [2.59716082e-01]\n",
      " [2.33286755e-02]\n",
      " [6.51084993e-01]\n",
      " [5.24321060e-04]\n",
      " [1.26014316e-36]\n",
      " [1.03563001e-01]\n",
      " [1.63625023e-01]\n",
      " [3.29183622e-01]\n",
      " [1.25324034e-09]\n",
      " [9.96835295e-01]\n",
      " [1.70617591e-01]\n",
      " [3.66000285e-03]\n",
      " [2.17102628e-03]\n",
      " [7.16423141e-01]\n",
      " [1.04887326e-26]\n",
      " [4.19781611e-05]\n",
      " [1.21580405e-04]\n",
      " [1.85064423e-07]\n",
      " [5.71991875e-01]\n",
      " [1.14851735e-17]\n",
      " [6.43743971e-17]\n",
      " [5.82114503e-01]\n",
      " [2.20123832e-02]\n",
      " [3.75720095e-06]\n",
      " [8.65503681e-14]\n",
      " [7.32897993e-02]\n",
      " [2.19832624e-01]\n",
      " [1.66212044e-02]\n",
      " [7.89200489e-01]\n",
      " [8.77779445e-01]\n",
      " [2.32812438e-09]\n",
      " [4.59848892e-02]\n",
      " [1.46214650e-06]\n",
      " [3.02969892e-03]]\n",
      "Bootstrap Observed difference of maxima: 0.8044679857072509\n",
      "Bootstrap 95% Confidence interval: [-0.4667102898491503, 1.0848801395670593]\n"
     ]
    }
   ],
   "source": [
    "y1, y2 = get_batches(8,0,full)\n",
    "print(y1,y2)\n",
    "\n",
    "bootstrap_diff_max(y1, y2)"
   ]
  },
  {
   "cell_type": "code",
   "execution_count": null,
   "metadata": {},
   "outputs": [],
   "source": []
  }
 ],
 "metadata": {
  "kernelspec": {
   "display_name": "msc_project",
   "language": "python",
   "name": "python3"
  },
  "language_info": {
   "codemirror_mode": {
    "name": "ipython",
    "version": 3
   },
   "file_extension": ".py",
   "mimetype": "text/x-python",
   "name": "python",
   "nbconvert_exporter": "python",
   "pygments_lexer": "ipython3",
   "version": "3.12.3"
  },
  "orig_nbformat": 4
 },
 "nbformat": 4,
 "nbformat_minor": 2
}
