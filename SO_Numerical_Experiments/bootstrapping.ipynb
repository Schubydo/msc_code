{
 "cells": [
  {
   "cell_type": "code",
   "execution_count": 1,
   "metadata": {},
   "outputs": [
    {
     "name": "stderr",
     "output_type": "stream",
     "text": [
      "/Users/dylanschubert/anaconda3/envs/msc_project/lib/python3.12/site-packages/tqdm/auto.py:21: TqdmWarning: IProgress not found. Please update jupyter and ipywidgets. See https://ipywidgets.readthedocs.io/en/stable/user_install.html\n",
      "  from .autonotebook import tqdm as notebook_tqdm\n"
     ]
    },
    {
     "ename": "TypeError",
     "evalue": "BayesianOptimization.__init__() got an unexpected keyword argument 'bound'",
     "output_type": "error",
     "traceback": [
      "\u001b[0;31m---------------------------------------------------------------------------\u001b[0m",
      "\u001b[0;31mTypeError\u001b[0m                                 Traceback (most recent call last)",
      "\u001b[1;32m/Users/dylanschubert/Documents/GitHub/msc_code/SO_Numerical_Experiments/bootstrapping.ipynb Cell 1\u001b[0m line \u001b[0;36m1\n\u001b[1;32m     <a href='vscode-notebook-cell:/Users/dylanschubert/Documents/GitHub/msc_code/SO_Numerical_Experiments/bootstrapping.ipynb#W1sZmlsZQ%3D%3D?line=9'>10</a>\u001b[0m DIM \u001b[39m=\u001b[39m \u001b[39m5\u001b[39m\n\u001b[1;32m     <a href='vscode-notebook-cell:/Users/dylanschubert/Documents/GitHub/msc_code/SO_Numerical_Experiments/bootstrapping.ipynb#W1sZmlsZQ%3D%3D?line=10'>11</a>\u001b[0m \u001b[39m# Bounds are 10 for Levy and 32 for Ackley \u001b[39;00m\n\u001b[0;32m---> <a href='vscode-notebook-cell:/Users/dylanschubert/Documents/GitHub/msc_code/SO_Numerical_Experiments/bootstrapping.ipynb#W1sZmlsZQ%3D%3D?line=12'>13</a>\u001b[0m optimizer \u001b[39m=\u001b[39m BayesianOptimization(fun\u001b[39m=\u001b[39;49mAckley(dim\u001b[39m=\u001b[39;49mDIM, negate\u001b[39m=\u001b[39;49m\u001b[39mTrue\u001b[39;49;00m),\n\u001b[1;32m     <a href='vscode-notebook-cell:/Users/dylanschubert/Documents/GitHub/msc_code/SO_Numerical_Experiments/bootstrapping.ipynb#W1sZmlsZQ%3D%3D?line=13'>14</a>\u001b[0m                                  batch_size\u001b[39m=\u001b[39;49mBATCH_SIZE,\n\u001b[1;32m     <a href='vscode-notebook-cell:/Users/dylanschubert/Documents/GitHub/msc_code/SO_Numerical_Experiments/bootstrapping.ipynb#W1sZmlsZQ%3D%3D?line=14'>15</a>\u001b[0m                                  dim\u001b[39m=\u001b[39;49mDIM,\n\u001b[1;32m     <a href='vscode-notebook-cell:/Users/dylanschubert/Documents/GitHub/msc_code/SO_Numerical_Experiments/bootstrapping.ipynb#W1sZmlsZQ%3D%3D?line=15'>16</a>\u001b[0m                                  epochs\u001b[39m=\u001b[39;49mEPOCHS,\n\u001b[1;32m     <a href='vscode-notebook-cell:/Users/dylanschubert/Documents/GitHub/msc_code/SO_Numerical_Experiments/bootstrapping.ipynb#W1sZmlsZQ%3D%3D?line=16'>17</a>\u001b[0m                                  n_init\u001b[39m=\u001b[39;49mN_INITIAL,\n\u001b[1;32m     <a href='vscode-notebook-cell:/Users/dylanschubert/Documents/GitHub/msc_code/SO_Numerical_Experiments/bootstrapping.ipynb#W1sZmlsZQ%3D%3D?line=17'>18</a>\u001b[0m                                  bound\u001b[39m=\u001b[39;49m\u001b[39m32\u001b[39;49m,\n\u001b[1;32m     <a href='vscode-notebook-cell:/Users/dylanschubert/Documents/GitHub/msc_code/SO_Numerical_Experiments/bootstrapping.ipynb#W1sZmlsZQ%3D%3D?line=18'>19</a>\u001b[0m                                  acqf_type\u001b[39m=\u001b[39;49m\u001b[39m'\u001b[39;49m\u001b[39mqEI\u001b[39;49m\u001b[39m'\u001b[39;49m)\n\u001b[1;32m     <a href='vscode-notebook-cell:/Users/dylanschubert/Documents/GitHub/msc_code/SO_Numerical_Experiments/bootstrapping.ipynb#W1sZmlsZQ%3D%3D?line=20'>21</a>\u001b[0m x_max, y_max \u001b[39m=\u001b[39m optimizer\u001b[39m.\u001b[39mrun()\n\u001b[1;32m     <a href='vscode-notebook-cell:/Users/dylanschubert/Documents/GitHub/msc_code/SO_Numerical_Experiments/bootstrapping.ipynb#W1sZmlsZQ%3D%3D?line=21'>22</a>\u001b[0m data \u001b[39m=\u001b[39m optimizer\u001b[39m.\u001b[39mget_data()\n",
      "\u001b[0;31mTypeError\u001b[0m: BayesianOptimization.__init__() got an unexpected keyword argument 'bound'"
     ]
    }
   ],
   "source": [
    "from bayesian_optimization import BayesianOptimization\n",
    "import pandas as pd \n",
    "from botorch.test_functions import Ackley\n",
    "from botorch.test_functions import Levy \n",
    "\n",
    "# Variables that determine the size of the dataset\n",
    "N_INITIAL = 100\n",
    "EPOCHS = 10\n",
    "BATCH_SIZE = 10\n",
    "DIM = 5\n",
    "# Bounds are 10 for Levy and 32 for Ackley \n",
    "\n",
    "optimizer = BayesianOptimization(fun=Ackley(dim=DIM, negate=True), \n",
    "                                 batch_size=BATCH_SIZE, \n",
    "                                 dim=DIM, \n",
    "                                 epochs=EPOCHS, \n",
    "                                 n_init=N_INITIAL, \n",
    "                                 lower_bound=-32.176,\n",
    "                                 upper_bound=32.176,\n",
    "                                 seed=5,\n",
    "                                 acqf_type='qUCB')\n",
    "\n",
    "x_max, y_max = optimizer.run()\n",
    "data = optimizer.get_data()\n",
    "full = optimizer.format(data, dim=DIM, n_init=N_INITIAL, batch_size=BATCH_SIZE, epochs=EPOCHS)\n",
    "display(full)"
   ]
  }
 ],
 "metadata": {
  "kernelspec": {
   "display_name": "msc_project",
   "language": "python",
   "name": "python3"
  },
  "language_info": {
   "codemirror_mode": {
    "name": "ipython",
    "version": 3
   },
   "file_extension": ".py",
   "mimetype": "text/x-python",
   "name": "python",
   "nbconvert_exporter": "python",
   "pygments_lexer": "ipython3",
   "version": "3.12.3"
  },
  "orig_nbformat": 4
 },
 "nbformat": 4,
 "nbformat_minor": 2
}
