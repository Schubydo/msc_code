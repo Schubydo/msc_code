{
 "cells": [
  {
   "cell_type": "code",
   "execution_count": 7,
   "metadata": {},
   "outputs": [
    {
     "name": "stdout",
     "output_type": "stream",
     "text": [
      "  Comparison  Is_Greater  Superior\n",
      "0   UCB > EI           3         0\n",
      "1   UCB > PI           3         0\n",
      "2   EI > UCB           3         0\n",
      "3    EI > PI           4         0\n",
      "4   PI > UCB           3         1\n",
      "5    PI > EI           2         1\n"
     ]
    }
   ],
   "source": [
    "import pandas as pd\n",
    "import os\n",
    "\n",
    "folder_path = '/Users/dylanschubert/Documents/GitHub/msc_code/SO_Numerical_Experiments/results/low_dim'\n",
    "\n",
    "summary_df = pd.DataFrame(columns=['Comparison', 'Is_Greater', 'Superior'])\n",
    "\n",
    "for filename in os.listdir(folder_path):\n",
    "    if filename.endswith('dim=2'):\n",
    "        file_path = os.path.join(folder_path, filename)\n",
    "        df = pd.read_csv(file_path)\n",
    "        if summary_df.empty:\n",
    "            summary_df = df.copy()\n",
    "        else:\n",
    "            summary_df['Is_Greater'] += df['Is_Greater']\n",
    "            summary_df['Superior'] += df['Superior']\n",
    "\n",
    "\n",
    "print(summary_df)"
   ]
  }
 ],
 "metadata": {
  "kernelspec": {
   "display_name": "msc_project",
   "language": "python",
   "name": "python3"
  },
  "language_info": {
   "codemirror_mode": {
    "name": "ipython",
    "version": 3
   },
   "file_extension": ".py",
   "mimetype": "text/x-python",
   "name": "python",
   "nbconvert_exporter": "python",
   "pygments_lexer": "ipython3",
   "version": "3.12.3"
  },
  "orig_nbformat": 4
 },
 "nbformat": 4,
 "nbformat_minor": 2
}
