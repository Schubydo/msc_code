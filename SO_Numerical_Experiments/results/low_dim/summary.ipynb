{
 "cells": [
  {
   "cell_type": "code",
   "execution_count": 4,
   "metadata": {},
   "outputs": [
    {
     "ename": "FileNotFoundError",
     "evalue": "[Errno 2] No such file or directory: 'low_dim'",
     "output_type": "error",
     "traceback": [
      "\u001b[0;31m---------------------------------------------------------------------------\u001b[0m",
      "\u001b[0;31mFileNotFoundError\u001b[0m                         Traceback (most recent call last)",
      "\u001b[1;32m/Users/dylanschubert/Documents/GitHub/msc_code/SO_Numerical_Experiments/results/low_dim/summary.ipynb Cell 1\u001b[0m line \u001b[0;36m9\n\u001b[1;32m      <a href='vscode-notebook-cell:/Users/dylanschubert/Documents/GitHub/msc_code/SO_Numerical_Experiments/results/low_dim/summary.ipynb#W0sZmlsZQ%3D%3D?line=5'>6</a>\u001b[0m summary_df \u001b[39m=\u001b[39m pd\u001b[39m.\u001b[39mDataFrame(columns\u001b[39m=\u001b[39m[\u001b[39m'\u001b[39m\u001b[39mComparison\u001b[39m\u001b[39m'\u001b[39m, \u001b[39m'\u001b[39m\u001b[39mIs_Greater\u001b[39m\u001b[39m'\u001b[39m, \u001b[39m'\u001b[39m\u001b[39mSuperior\u001b[39m\u001b[39m'\u001b[39m])\n\u001b[1;32m      <a href='vscode-notebook-cell:/Users/dylanschubert/Documents/GitHub/msc_code/SO_Numerical_Experiments/results/low_dim/summary.ipynb#W0sZmlsZQ%3D%3D?line=7'>8</a>\u001b[0m \u001b[39m# Iterate through all files in the folder\u001b[39;00m\n\u001b[0;32m----> <a href='vscode-notebook-cell:/Users/dylanschubert/Documents/GitHub/msc_code/SO_Numerical_Experiments/results/low_dim/summary.ipynb#W0sZmlsZQ%3D%3D?line=8'>9</a>\u001b[0m \u001b[39mfor\u001b[39;00m filename \u001b[39min\u001b[39;00m os\u001b[39m.\u001b[39;49mlistdir(folder_path):\n\u001b[1;32m     <a href='vscode-notebook-cell:/Users/dylanschubert/Documents/GitHub/msc_code/SO_Numerical_Experiments/results/low_dim/summary.ipynb#W0sZmlsZQ%3D%3D?line=9'>10</a>\u001b[0m     \u001b[39mif\u001b[39;00m filename\u001b[39m.\u001b[39mendswith(\u001b[39m'\u001b[39m\u001b[39m.csv\u001b[39m\u001b[39m'\u001b[39m):\n\u001b[1;32m     <a href='vscode-notebook-cell:/Users/dylanschubert/Documents/GitHub/msc_code/SO_Numerical_Experiments/results/low_dim/summary.ipynb#W0sZmlsZQ%3D%3D?line=10'>11</a>\u001b[0m         file_path \u001b[39m=\u001b[39m os\u001b[39m.\u001b[39mpath\u001b[39m.\u001b[39mjoin(folder_path, filename)\n",
      "\u001b[0;31mFileNotFoundError\u001b[0m: [Errno 2] No such file or directory: 'low_dim'"
     ]
    }
   ],
   "source": [
    "import pandas as pd\n",
    "import os\n",
    "\n",
    "folder_path = 'low_dim'\n",
    "\n",
    "summary_df = pd.DataFrame(columns=['Comparison', 'Is_Greater', 'Superior'])\n",
    "\n",
    "for filename in os.listdir(folder_path):\n",
    "    if filename.endswith('.csv'):\n",
    "        file_path = os.path.join(folder_path, filename)\n",
    "        df = pd.read_csv(file_path)\n",
    "        if summary_df.empty:\n",
    "            summary_df = df.copy()\n",
    "        else:\n",
    "            summary_df['Is_Greater'] += df['Is_Greater']\n",
    "            summary_df['Superior'] += df['Superior']\n",
    "\n",
    "\n",
    "print(summary_df)"
   ]
  }
 ],
 "metadata": {
  "kernelspec": {
   "display_name": "msc_project",
   "language": "python",
   "name": "python3"
  },
  "language_info": {
   "codemirror_mode": {
    "name": "ipython",
    "version": 3
   },
   "file_extension": ".py",
   "mimetype": "text/x-python",
   "name": "python",
   "nbconvert_exporter": "python",
   "pygments_lexer": "ipython3",
   "version": "3.12.3"
  },
  "orig_nbformat": 4
 },
 "nbformat": 4,
 "nbformat_minor": 2
}
