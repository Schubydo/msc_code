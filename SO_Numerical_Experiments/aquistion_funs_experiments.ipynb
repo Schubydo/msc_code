{
 "cells": [
  {
   "cell_type": "code",
   "execution_count": 11,
   "metadata": {},
   "outputs": [
    {
     "ename": "TypeError",
     "evalue": "ci_bo() got an unexpected keyword argument 'batch_size'",
     "output_type": "error",
     "traceback": [
      "\u001b[0;31m---------------------------------------------------------------------------\u001b[0m",
      "\u001b[0;31mTypeError\u001b[0m                                 Traceback (most recent call last)",
      "\u001b[1;32m/Users/dylanschubert/Documents/GitHub/msc_code/SO_Numerical_Experiments/aquistion_funs_experiments.ipynb Cell 1\u001b[0m line \u001b[0;36m5\n\u001b[1;32m      <a href='vscode-notebook-cell:/Users/dylanschubert/Documents/GitHub/msc_code/SO_Numerical_Experiments/aquistion_funs_experiments.ipynb#W0sZmlsZQ%3D%3D?line=1'>2</a>\u001b[0m \u001b[39mfrom\u001b[39;00m \u001b[39mbotorch\u001b[39;00m\u001b[39m.\u001b[39;00m\u001b[39mtest_functions\u001b[39;00m \u001b[39mimport\u001b[39;00m Ackley\n\u001b[1;32m      <a href='vscode-notebook-cell:/Users/dylanschubert/Documents/GitHub/msc_code/SO_Numerical_Experiments/aquistion_funs_experiments.ipynb#W0sZmlsZQ%3D%3D?line=3'>4</a>\u001b[0m \u001b[39m# Low dimension Ackley function tests\u001b[39;00m\n\u001b[0;32m----> <a href='vscode-notebook-cell:/Users/dylanschubert/Documents/GitHub/msc_code/SO_Numerical_Experiments/aquistion_funs_experiments.ipynb#W0sZmlsZQ%3D%3D?line=4'>5</a>\u001b[0m ucb_2, ucb_ci_2 \u001b[39m=\u001b[39m ci_bo(dim\u001b[39m=\u001b[39;49m\u001b[39m2\u001b[39;49m, acqf_type\u001b[39m=\u001b[39;49m\u001b[39m'\u001b[39;49m\u001b[39mqUCB\u001b[39;49m\u001b[39m'\u001b[39;49m, batch_size\u001b[39m=\u001b[39;49m\u001b[39m5\u001b[39;49m, epochs\u001b[39m=\u001b[39;49m\u001b[39m10\u001b[39;49m, n_init\u001b[39m=\u001b[39;49m\u001b[39m10\u001b[39;49m, N_TRIALS\u001b[39m=\u001b[39;49m\u001b[39m10\u001b[39;49m, function\u001b[39m=\u001b[39;49mAckley, lower_bound\u001b[39m=\u001b[39;49m\u001b[39m-\u001b[39;49m\u001b[39m32.176\u001b[39;49m, upper_bound\u001b[39m=\u001b[39;49m\u001b[39m32.176\u001b[39;49m)\n\u001b[1;32m      <a href='vscode-notebook-cell:/Users/dylanschubert/Documents/GitHub/msc_code/SO_Numerical_Experiments/aquistion_funs_experiments.ipynb#W0sZmlsZQ%3D%3D?line=5'>6</a>\u001b[0m ei_2, ei_ci_2 \u001b[39m=\u001b[39m ci_bo(dim\u001b[39m=\u001b[39m\u001b[39m2\u001b[39m, acqf_type\u001b[39m=\u001b[39m\u001b[39m'\u001b[39m\u001b[39mqEI\u001b[39m\u001b[39m'\u001b[39m, batch_size\u001b[39m=\u001b[39m\u001b[39m5\u001b[39m, epochs\u001b[39m=\u001b[39m\u001b[39m10\u001b[39m, n_init\u001b[39m=\u001b[39m\u001b[39m10\u001b[39m, N_TRIALS\u001b[39m=\u001b[39m\u001b[39m10\u001b[39m, function\u001b[39m=\u001b[39mAckley, lower_bound\u001b[39m=\u001b[39m\u001b[39m-\u001b[39m\u001b[39m32.176\u001b[39m, upper_bound\u001b[39m=\u001b[39m\u001b[39m32.176\u001b[39m)\n\u001b[1;32m      <a href='vscode-notebook-cell:/Users/dylanschubert/Documents/GitHub/msc_code/SO_Numerical_Experiments/aquistion_funs_experiments.ipynb#W0sZmlsZQ%3D%3D?line=6'>7</a>\u001b[0m pi_2, pi_ci_2 \u001b[39m=\u001b[39m ci_bo(dim\u001b[39m=\u001b[39m\u001b[39m2\u001b[39m, acqf_type\u001b[39m=\u001b[39m\u001b[39m'\u001b[39m\u001b[39mqPI\u001b[39m\u001b[39m'\u001b[39m, batch_size\u001b[39m=\u001b[39m\u001b[39m5\u001b[39m, epochs\u001b[39m=\u001b[39m\u001b[39m10\u001b[39m, n_init\u001b[39m=\u001b[39m\u001b[39m10\u001b[39m, N_TRIALS\u001b[39m=\u001b[39m\u001b[39m10\u001b[39m, function\u001b[39m=\u001b[39mAckley, lower_bound\u001b[39m=\u001b[39m\u001b[39m-\u001b[39m\u001b[39m32.176\u001b[39m, upper_bound\u001b[39m=\u001b[39m\u001b[39m32.176\u001b[39m)\n",
      "\u001b[0;31mTypeError\u001b[0m: ci_bo() got an unexpected keyword argument 'batch_size'"
     ]
    }
   ],
   "source": [
    "from confidence_intervals import ci_bo\n",
    "from botorch.test_functions import Ackley\n",
    "\n",
    "# Low dimension Ackley function tests\n",
    "ucb_2, ucb_ci_2 = ci_bo(dim=2, acqf_type='qUCB', batch_size=5, epochs=10, n_init=10, N_TRIALS=10, function=Ackley, lower_bound=-32.176, upper_bound=32.176)\n",
    "ei_2, ei_ci_2 = ci_bo(dim=2, acqf_type='qEI', batch_size=5, epochs=10, n_init=10, N_TRIALS=10, function=Ackley, lower_bound=-32.176, upper_bound=32.176)\n",
    "pi_2, pi_ci_2 = ci_bo(dim=2, acqf_type='qPI', batch_size=5, epochs=10, n_init=10, N_TRIALS=10, function=Ackley, lower_bound=-32.176, upper_bound=32.176)\n"
   ]
  },
  {
   "cell_type": "code",
   "execution_count": 7,
   "metadata": {},
   "outputs": [
    {
     "name": "stdout",
     "output_type": "stream",
     "text": [
      "[-19.55090533 -19.10527474 -17.97737851 -17.23166255 -17.06537876\n",
      " -16.48504341 -16.06250363 -14.96983574 -14.96983574 -13.85447333\n",
      " -13.85447333 -13.85248923 -13.85248923 -13.84178858 -13.74097742\n",
      " -13.74097742 -13.51859452 -13.51859452 -13.51859452 -13.22449457\n",
      " -13.22449457 -13.13902802 -13.13902802 -12.72727249 -12.72727249\n",
      " -12.72727249 -12.48237151 -12.48237151 -12.04934665 -11.61239464\n",
      " -11.61239464 -11.61239464 -11.09220359 -11.09220359 -11.09220359\n",
      " -11.09220359 -11.09220359 -10.69903986 -10.69903986 -10.69903986\n",
      " -10.69903986 -10.69903986 -10.50638002 -10.50638002 -10.50638002\n",
      " -10.50638002 -10.50638002 -10.50638002 -10.50638002 -10.44846271\n",
      " -10.44846271  -9.88719557  -9.88719557  -9.88719557  -9.3053913\n",
      "  -9.3053913   -9.3053913   -9.3053913   -8.91036172  -8.91036172\n",
      "  -8.91036172  -8.91036172  -8.91036172  -8.91036172  -8.91036172\n",
      "  -8.91036172  -8.91036172  -8.91036172  -8.91036172  -8.91036172\n",
      "  -8.91036172  -8.91036172  -8.55190819  -8.55190819  -8.55190819\n",
      "  -8.55190819  -8.55190819  -8.55190819  -8.55190819  -8.55190819\n",
      "  -8.55190819  -8.55190819  -8.55190819  -8.55190819  -8.55190819\n",
      "  -8.55190819  -8.55190819  -8.55190819  -8.55190819  -8.55190819\n",
      "  -8.55190819  -8.55190819  -8.55190819  -8.55190819  -8.55190819\n",
      "  -8.55190819  -8.55190819  -8.55190819  -8.55190819  -8.55190819\n",
      "  -8.13694482  -8.13694482  -7.67548524  -7.46897213  -7.46897213\n",
      "  -7.0598263   -6.83647038  -6.83647038  -6.52685142  -5.67024694\n",
      "  -5.67024694  -5.19435991  -5.19435991  -5.00326988  -5.00326988\n",
      "  -4.28340556  -3.86741138  -3.86741138  -3.53263827  -3.53263827\n",
      "  -3.53263827  -3.53263827  -3.53263827  -3.53263827  -3.53263827\n",
      "  -3.53263827  -3.46243556  -3.45749482  -3.39619332  -3.30069954\n",
      "  -3.30069954  -3.30069954  -3.23019327  -3.23019327  -3.23019327\n",
      "  -3.23019327  -3.23019327  -3.10112101  -2.76541228  -2.76541228\n",
      "  -2.76541228  -2.75313911  -2.74578799  -2.74578799  -2.74578799\n",
      "  -2.54635254  -2.54635254  -2.54635254  -2.54635254  -2.54635254\n",
      "  -2.4610467   -2.4610467   -2.25767897  -2.14407876  -2.11231113\n",
      "  -2.11231113  -2.11231113  -2.11231113  -2.11231113  -2.11231113\n",
      "  -2.11231113  -2.11231113  -2.11231113  -2.11231113  -2.11231113\n",
      "  -2.11231113  -2.11231113  -2.11231113  -2.11231113  -2.11231113\n",
      "  -2.11231113  -2.11231113  -2.11231113  -2.0933432   -2.0933432\n",
      "  -2.0933432   -2.0933432   -2.0933432   -1.89522789  -1.89522789\n",
      "  -1.85721249  -1.85721249  -1.85721249  -1.85721249  -1.85721249\n",
      "  -1.85721249  -1.85721249  -1.85721249  -1.85721249  -1.85721249\n",
      "  -1.78244392  -1.78244392  -1.78244392  -1.78244392  -1.78244392\n",
      "  -1.78244392  -1.78244392  -1.78244392  -1.7732767   -1.7732767 ]\n",
      "(200,)\n"
     ]
    }
   ],
   "source": [
    "import numpy as np\n",
    "import matplotlib.pyplot as plt\n",
    "\n",
    "plt.plot(ucb_2, label='qUCB')\n",
    "plt.fill_between(np.arange(len(ucb_2)), ucb_2 - ucb_ci_2, ucb_2 + ucb_ci_2, alpha=0.2, label='95% CI (2D)')\n",
    "\n",
    "# Dimension 3\n",
    "plt.plot(ei_2, label='qEI')\n",
    "plt.fill_between(np.arange(len(ei_2)), ei_2 - ei_ci_2, ei_2 + ei_ci_2, alpha=0.2, label='95% CI (3D)')\n",
    "\n",
    "# Dimension 4\n",
    "plt.plot(pi_2, label='qPI')\n",
    "plt.fill_between(np.arange(len(pi_2)), pi_2 - pi_ci_2, pi_2 + pi_ci_2, alpha=0.2, label='95% CI (4D)')\n",
    "\n",
    "plt.plot([0, 200], [0, 0], \"k--\", lw=3, label='Optimum')\n",
    "\n",
    "plt.ylim([-20, 1]) \n",
    "plt.title('Acquisition function on 2D Ackley')\n",
    "plt.xlabel('Iteration')\n",
    "plt.ylabel('Maximum Value Observed')\n",
    "plt.legend()\n",
    "plt.grid(True)\n",
    "plt.show()\n"
   ]
  }
 ],
 "metadata": {
  "kernelspec": {
   "display_name": "msc_project",
   "language": "python",
   "name": "python3"
  },
  "language_info": {
   "codemirror_mode": {
    "name": "ipython",
    "version": 3
   },
   "file_extension": ".py",
   "mimetype": "text/x-python",
   "name": "python",
   "nbconvert_exporter": "python",
   "pygments_lexer": "ipython3",
   "version": "3.12.3"
  },
  "orig_nbformat": 4
 },
 "nbformat": 4,
 "nbformat_minor": 2
}
