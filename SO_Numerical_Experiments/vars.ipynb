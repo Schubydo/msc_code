{
 "cells": [
  {
   "cell_type": "code",
   "execution_count": 67,
   "metadata": {},
   "outputs": [
    {
     "data": {
      "text/html": [
       "<div>\n",
       "<style scoped>\n",
       "    .dataframe tbody tr th:only-of-type {\n",
       "        vertical-align: middle;\n",
       "    }\n",
       "\n",
       "    .dataframe tbody tr th {\n",
       "        vertical-align: top;\n",
       "    }\n",
       "\n",
       "    .dataframe thead th {\n",
       "        text-align: right;\n",
       "    }\n",
       "</style>\n",
       "<table border=\"1\" class=\"dataframe\">\n",
       "  <thead>\n",
       "    <tr style=\"text-align: right;\">\n",
       "      <th></th>\n",
       "      <th>Batch</th>\n",
       "      <th>x1</th>\n",
       "      <th>x2</th>\n",
       "      <th>y</th>\n",
       "    </tr>\n",
       "  </thead>\n",
       "  <tbody>\n",
       "    <tr>\n",
       "      <th>0</th>\n",
       "      <td>0.0</td>\n",
       "      <td>2.204358</td>\n",
       "      <td>-3.241117</td>\n",
       "      <td>-6562.954248</td>\n",
       "    </tr>\n",
       "    <tr>\n",
       "      <th>1</th>\n",
       "      <td>0.0</td>\n",
       "      <td>9.246825</td>\n",
       "      <td>6.145304</td>\n",
       "      <td>-629844.664918</td>\n",
       "    </tr>\n",
       "    <tr>\n",
       "      <th>2</th>\n",
       "      <td>0.0</td>\n",
       "      <td>4.606343</td>\n",
       "      <td>-0.091371</td>\n",
       "      <td>-45423.628672</td>\n",
       "    </tr>\n",
       "    <tr>\n",
       "      <th>3</th>\n",
       "      <td>0.0</td>\n",
       "      <td>-2.530880</td>\n",
       "      <td>9.294155</td>\n",
       "      <td>-846.985999</td>\n",
       "    </tr>\n",
       "    <tr>\n",
       "      <th>4</th>\n",
       "      <td>0.0</td>\n",
       "      <td>-4.431369</td>\n",
       "      <td>0.851464</td>\n",
       "      <td>-35319.248621</td>\n",
       "    </tr>\n",
       "    <tr>\n",
       "      <th>...</th>\n",
       "      <td>...</td>\n",
       "      <td>...</td>\n",
       "      <td>...</td>\n",
       "      <td>...</td>\n",
       "    </tr>\n",
       "    <tr>\n",
       "      <th>105</th>\n",
       "      <td>10.0</td>\n",
       "      <td>-2.024845</td>\n",
       "      <td>6.980111</td>\n",
       "      <td>-838.654287</td>\n",
       "    </tr>\n",
       "    <tr>\n",
       "      <th>106</th>\n",
       "      <td>10.0</td>\n",
       "      <td>2.311917</td>\n",
       "      <td>2.698049</td>\n",
       "      <td>-702.336202</td>\n",
       "    </tr>\n",
       "    <tr>\n",
       "      <th>107</th>\n",
       "      <td>10.0</td>\n",
       "      <td>1.331238</td>\n",
       "      <td>6.120098</td>\n",
       "      <td>-1890.536279</td>\n",
       "    </tr>\n",
       "    <tr>\n",
       "      <th>108</th>\n",
       "      <td>10.0</td>\n",
       "      <td>1.227249</td>\n",
       "      <td>1.446906</td>\n",
       "      <td>-0.402492</td>\n",
       "    </tr>\n",
       "    <tr>\n",
       "      <th>109</th>\n",
       "      <td>10.0</td>\n",
       "      <td>9.174250</td>\n",
       "      <td>4.688180</td>\n",
       "      <td>-631753.033023</td>\n",
       "    </tr>\n",
       "  </tbody>\n",
       "</table>\n",
       "<p>110 rows × 4 columns</p>\n",
       "</div>"
      ],
      "text/plain": [
       "     Batch        x1        x2              y\n",
       "0      0.0  2.204358 -3.241117   -6562.954248\n",
       "1      0.0  9.246825  6.145304 -629844.664918\n",
       "2      0.0  4.606343 -0.091371  -45423.628672\n",
       "3      0.0 -2.530880  9.294155    -846.985999\n",
       "4      0.0 -4.431369  0.851464  -35319.248621\n",
       "..     ...       ...       ...            ...\n",
       "105   10.0 -2.024845  6.980111    -838.654287\n",
       "106   10.0  2.311917  2.698049    -702.336202\n",
       "107   10.0  1.331238  6.120098   -1890.536279\n",
       "108   10.0  1.227249  1.446906      -0.402492\n",
       "109   10.0  9.174250  4.688180 -631753.033023\n",
       "\n",
       "[110 rows x 4 columns]"
      ]
     },
     "metadata": {},
     "output_type": "display_data"
    },
    {
     "data": {
      "text/html": [
       "<div>\n",
       "<style scoped>\n",
       "    .dataframe tbody tr th:only-of-type {\n",
       "        vertical-align: middle;\n",
       "    }\n",
       "\n",
       "    .dataframe tbody tr th {\n",
       "        vertical-align: top;\n",
       "    }\n",
       "\n",
       "    .dataframe thead th {\n",
       "        text-align: right;\n",
       "    }\n",
       "</style>\n",
       "<table border=\"1\" class=\"dataframe\">\n",
       "  <thead>\n",
       "    <tr style=\"text-align: right;\">\n",
       "      <th></th>\n",
       "      <th>x1</th>\n",
       "      <th>x2</th>\n",
       "      <th>y</th>\n",
       "    </tr>\n",
       "  </thead>\n",
       "  <tbody>\n",
       "    <tr>\n",
       "      <th>0</th>\n",
       "      <td>2.204358</td>\n",
       "      <td>-3.241117</td>\n",
       "      <td>-6562.954248</td>\n",
       "    </tr>\n",
       "    <tr>\n",
       "      <th>1</th>\n",
       "      <td>9.246825</td>\n",
       "      <td>6.145304</td>\n",
       "      <td>-629844.664918</td>\n",
       "    </tr>\n",
       "    <tr>\n",
       "      <th>2</th>\n",
       "      <td>4.606343</td>\n",
       "      <td>-0.091371</td>\n",
       "      <td>-45423.628672</td>\n",
       "    </tr>\n",
       "    <tr>\n",
       "      <th>3</th>\n",
       "      <td>-2.530880</td>\n",
       "      <td>9.294155</td>\n",
       "      <td>-846.985999</td>\n",
       "    </tr>\n",
       "    <tr>\n",
       "      <th>4</th>\n",
       "      <td>-4.431369</td>\n",
       "      <td>0.851464</td>\n",
       "      <td>-35319.248621</td>\n",
       "    </tr>\n",
       "    <tr>\n",
       "      <th>...</th>\n",
       "      <td>...</td>\n",
       "      <td>...</td>\n",
       "      <td>...</td>\n",
       "    </tr>\n",
       "    <tr>\n",
       "      <th>105</th>\n",
       "      <td>-2.024845</td>\n",
       "      <td>6.980111</td>\n",
       "      <td>-838.654287</td>\n",
       "    </tr>\n",
       "    <tr>\n",
       "      <th>106</th>\n",
       "      <td>2.311917</td>\n",
       "      <td>2.698049</td>\n",
       "      <td>-702.336202</td>\n",
       "    </tr>\n",
       "    <tr>\n",
       "      <th>107</th>\n",
       "      <td>1.331238</td>\n",
       "      <td>6.120098</td>\n",
       "      <td>-1890.536279</td>\n",
       "    </tr>\n",
       "    <tr>\n",
       "      <th>108</th>\n",
       "      <td>1.227249</td>\n",
       "      <td>1.446906</td>\n",
       "      <td>-0.402492</td>\n",
       "    </tr>\n",
       "    <tr>\n",
       "      <th>109</th>\n",
       "      <td>9.174250</td>\n",
       "      <td>4.688180</td>\n",
       "      <td>-631753.033023</td>\n",
       "    </tr>\n",
       "  </tbody>\n",
       "</table>\n",
       "<p>110 rows × 3 columns</p>\n",
       "</div>"
      ],
      "text/plain": [
       "           x1        x2              y\n",
       "0    2.204358 -3.241117   -6562.954248\n",
       "1    9.246825  6.145304 -629844.664918\n",
       "2    4.606343 -0.091371  -45423.628672\n",
       "3   -2.530880  9.294155    -846.985999\n",
       "4   -4.431369  0.851464  -35319.248621\n",
       "..        ...       ...            ...\n",
       "105 -2.024845  6.980111    -838.654287\n",
       "106  2.311917  2.698049    -702.336202\n",
       "107  1.331238  6.120098   -1890.536279\n",
       "108  1.227249  1.446906      -0.402492\n",
       "109  9.174250  4.688180 -631753.033023\n",
       "\n",
       "[110 rows x 3 columns]"
      ]
     },
     "metadata": {},
     "output_type": "display_data"
    },
    {
     "data": {
      "text/html": [
       "<div>\n",
       "<style scoped>\n",
       "    .dataframe tbody tr th:only-of-type {\n",
       "        vertical-align: middle;\n",
       "    }\n",
       "\n",
       "    .dataframe tbody tr th {\n",
       "        vertical-align: top;\n",
       "    }\n",
       "\n",
       "    .dataframe thead th {\n",
       "        text-align: right;\n",
       "    }\n",
       "</style>\n",
       "<table border=\"1\" class=\"dataframe\">\n",
       "  <thead>\n",
       "    <tr style=\"text-align: right;\">\n",
       "      <th></th>\n",
       "      <th>x1</th>\n",
       "      <th>x2</th>\n",
       "    </tr>\n",
       "  </thead>\n",
       "  <tbody>\n",
       "    <tr>\n",
       "      <th>0.2</th>\n",
       "      <td>0.928685</td>\n",
       "      <td>0.071315</td>\n",
       "    </tr>\n",
       "  </tbody>\n",
       "</table>\n",
       "</div>"
      ],
      "text/plain": [
       "           x1        x2\n",
       "0.2  0.928685  0.071315"
      ]
     },
     "metadata": {},
     "output_type": "display_data"
    },
    {
     "data": {
      "image/png": "[encoded data removed]",
      "text/plain": [
       "<Figure size 1400x800 with 1 Axes>"
      ]
     },
     "metadata": {},
     "output_type": "display_data"
    }
   ],
   "source": [
    "from bayesian_optimization import BayesianOptimization\n",
    "import pandas as pd \n",
    "from botorch.test_functions import Ackley\n",
    "from botorch.test_functions import Levy \n",
    "from botorch.test_functions import Rosenbrock\n",
    "from varstool import DVARS\n",
    "import seaborn as sns\n",
    "import matplotlib.pyplot as plt\n",
    "\n",
    "# Variables that determine the size of the dataset\n",
    "N_INITIAL = 10\n",
    "EPOCHS = 10\n",
    "BATCH_SIZE = 10\n",
    "DIM = 2\n",
    "LOWER = -5\n",
    "UPPER = 10\n",
    "\n",
    "optimizer = BayesianOptimization(fun=Rosenbrock(dim=DIM,negate=True), \n",
    "                                 batch_size=BATCH_SIZE, \n",
    "                                 dim=DIM, \n",
    "                                 epochs=EPOCHS, \n",
    "                                 n_init=N_INITIAL, \n",
    "                                 lower_bound=LOWER,\n",
    "                                 upper_bound=UPPER,\n",
    "                                 seed=5,\n",
    "                                 acqf_type='qUCB')\n",
    "\n",
    "x_max, y_max = optimizer.run()\n",
    "data = optimizer.get_data()\n",
    "full = optimizer.format(data, dim=DIM, n_init=N_INITIAL, batch_size=BATCH_SIZE, epochs=EPOCHS)\n",
    "display(full)\n",
    "\n",
    "vars_data = full.drop(columns=['Batch'])\n",
    "\n",
    "display(vars_data)\n",
    "vars_data.to_csv('vars_data.csv', index=False)\n",
    "h = 0.3\n",
    "experiment = DVARS(data_file = 'vars_data.csv',\n",
    "                   outvarname = 'y',\n",
    "                   ivars_range = h,\n",
    "                   phi0=1,\n",
    "                   phi_max=1e6,\n",
    "                   tol = 1e-6,\n",
    "                   correlation_func_type='linear',\n",
    "                   report_verbose=False)\n",
    "\n",
    "experiment.run()\n",
    "display(experiment.ratios)\n",
    " \n",
    "data = pd.DataFrame(experiment.ratios, index=[h])\n",
    "data = data.T.sort_values(by=h, ascending=False).T\n",
    "\n",
    "# Plotting the ratios\n",
    "plt.figure(figsize=(14, 8))\n",
    "sns.barplot(x=data.columns, y=data.iloc[0])\n",
    "plt.xticks(rotation=90)\n",
    "plt.title('Vars diagram')\n",
    "plt.xlabel('Var')\n",
    "plt.ylabel('Mid level importance')\n",
    "plt.tight_layout()\n",
    "\n",
    "plt.show()"
   ]
  },
  {
   "cell_type": "code",
   "execution_count": null,
   "metadata": {},
   "outputs": [],
   "source": []
  },
  {
   "cell_type": "code",
   "execution_count": 42,
   "metadata": {},
   "outputs": [
    {
     "name": "stderr",
     "output_type": "stream",
     "text": [
      "model evaluation:   0%|          | 0/5500 [00:00<?, ?it/s]/var/folders/tn/_5w3fjw13jn7qf4h0l1cqc040000gn/T/ipykernel_17307/3373430391.py:23: FutureWarning: Series.__getitem__ treating keys as positions is deprecated. In a future version, integer keys will always be treated as labels (consistent with DataFrame behavior). To access a value by position, use `ser.iloc[pos]`\n",
      "  X = torch.tensor(X, dtype=torch.float32)\n",
      "model evaluation: 100%|██████████| 5500/5500 [00:01<00:00, 4964.66it/s]\n",
      "building pairs: 100%|██████████| 600/600 [00:01<00:00, 355.61it/s]\n",
      "VARS analysis: 100%|██████████| 10/10 [00:00<00:00, 145.67it/s]\n",
      "factor ranking: 100%|██████████| 2/2 [00:00<00:00, 1015.82it/s]\n",
      "bootstrapping and grouping: 100%|██████████| 100/100 [00:16<00:00,  6.13it/s]\n",
      "/Users/dylanschubert/anaconda3/envs/msc_project/lib/python3.12/site-packages/varstool/sensitivity_analysis/vars_funcs.py:989: FutureWarning: Series.__getitem__ treating keys as positions is deprecated. In a future version, integer keys will always be treated as labels (consistent with DataFrame behavior). To access a value by position, use `ser.iloc[pos]`\n",
      "  result_bs_sobol_ranking[param].eq(st_factor_ranking[param][0]).sum() / bootstrap_size)\n"
     ]
    }
   ],
   "source": [
    "import numpy as np\n",
    "import torch\n",
    "from botorch.test_functions import Hartmann\n",
    "from varstool import VARS, Model\n",
    "\n",
    "# Define the parameters\n",
    "DIM = 6\n",
    "LOWER = 0\n",
    "UPPER = 1\n",
    "\n",
    "# Initialize the Hartmann function\n",
    "hart = Hartmann(dim=DIM, negate=True)\n",
    "\n",
    "# Set the bounds of the function\n",
    "hart.bounds[0, :].fill_(LOWER)\n",
    "hart.bounds[1, :].fill_(UPPER)\n",
    "\n",
    "# Define a wrapper for the Hartmann function to match the expected input format for VARS\n",
    "def hartmann_function(X):\n",
    "    if isinstance(X, pd.DataFrame):\n",
    "        X = torch.tensor(X.values, dtype=torch.float32)\n",
    "    elif not isinstance(X, torch.Tensor):\n",
    "        X = torch.tensor(X, dtype=torch.float32)\n",
    "    \n",
    "    # Assuming hart(X) returns a single scalar\n",
    "    result = hart(X).item()\n",
    "    return result\n",
    "\n",
    "# Create the Model object with the Hartmann function\n",
    "model = Model(func=hartmann_function)\n",
    "\n",
    "my_parameters = { 'x1': [ LOWER, UPPER ], \n",
    "                  'x2': [ LOWER, UPPER ], \n",
    "                  'x3': [ LOWER, UPPER ],\n",
    "                  'x4': [ LOWER, UPPER ], \n",
    "                  'x5': [ LOWER, UPPER ], \n",
    "                  'x6': [ LOWER, UPPER ], }\n",
    "\n",
    "\n",
    "# Initialize the VARS object\n",
    "vars = VARS(parameters= my_parameters,\n",
    "                    num_stars      = 100,\n",
    "                    delta_h        = 0.1,\n",
    "                    ivars_scales   = (0.1, 0.3, 0.5),\n",
    "                    sampler        = 'lhs',\n",
    "                    seed           = 123456789,\n",
    "                    model          = model,\n",
    "                    bootstrap_flag = True,\n",
    "                    bootstrap_size = 100,\n",
    "                    bootstrap_ci   = 0.9,\n",
    "                    grouping_flag  = True,\n",
    "                    num_grps       = 2,\n",
    "                    report_verbose = True,\n",
    "                    )\n",
    "\n",
    "# Run the analysis\n",
    "results = vars.run_online()"
   ]
  },
  {
   "cell_type": "code",
   "execution_count": 47,
   "metadata": {},
   "outputs": [
    {
     "ename": "AttributeError",
     "evalue": "'NoneType' object has no attribute 'ivars'",
     "output_type": "error",
     "traceback": [
      "\u001b[0;31m---------------------------------------------------------------------------\u001b[0m",
      "\u001b[0;31mAttributeError\u001b[0m                            Traceback (most recent call last)",
      "\u001b[1;32m/Users/dylanschubert/Documents/GitHub/msc_code/SO_Numerical_Experiments/vars.ipynb Cell 5\u001b[0m line \u001b[0;36m2\n\u001b[1;32m      <a href='vscode-notebook-cell:/Users/dylanschubert/Documents/GitHub/msc_code/SO_Numerical_Experiments/vars.ipynb#X10sZmlsZQ%3D%3D?line=0'>1</a>\u001b[0m \u001b[39m# IVARS from Experiment 1\u001b[39;00m\n\u001b[0;32m----> <a href='vscode-notebook-cell:/Users/dylanschubert/Documents/GitHub/msc_code/SO_Numerical_Experiments/vars.ipynb#X10sZmlsZQ%3D%3D?line=1'>2</a>\u001b[0m results\u001b[39m.\u001b[39;49mivars\n",
      "\u001b[0;31mAttributeError\u001b[0m: 'NoneType' object has no attribute 'ivars'"
     ]
    }
   ],
   "source": [
    "# IVARS from Experiment 1\n",
    "results.ivars"
   ]
  },
  {
   "cell_type": "code",
   "execution_count": 44,
   "metadata": {},
   "outputs": [
    {
     "ename": "AttributeError",
     "evalue": "'NoneType' object has no attribute 'parameters'",
     "output_type": "error",
     "traceback": [
      "\u001b[0;31m---------------------------------------------------------------------------\u001b[0m",
      "\u001b[0;31mAttributeError\u001b[0m                            Traceback (most recent call last)",
      "\u001b[1;32m/Users/dylanschubert/Documents/GitHub/msc_code/SO_Numerical_Experiments/vars.ipynb Cell 6\u001b[0m line \u001b[0;36m2\n\u001b[1;32m      <a href='vscode-notebook-cell:/Users/dylanschubert/Documents/GitHub/msc_code/SO_Numerical_Experiments/vars.ipynb#X21sZmlsZQ%3D%3D?line=0'>1</a>\u001b[0m \u001b[39m# IVARS from Experiment 1\u001b[39;00m\n\u001b[0;32m----> <a href='vscode-notebook-cell:/Users/dylanschubert/Documents/GitHub/msc_code/SO_Numerical_Experiments/vars.ipynb#X21sZmlsZQ%3D%3D?line=1'>2</a>\u001b[0m cols \u001b[39m=\u001b[39m results\u001b[39m.\u001b[39;49mparameters\u001b[39m.\u001b[39mkeys()\n\u001b[1;32m      <a href='vscode-notebook-cell:/Users/dylanschubert/Documents/GitHub/msc_code/SO_Numerical_Experiments/vars.ipynb#X21sZmlsZQ%3D%3D?line=2'>3</a>\u001b[0m results\u001b[39m.\u001b[39mivars[cols]\n",
      "\u001b[0;31mAttributeError\u001b[0m: 'NoneType' object has no attribute 'parameters'"
     ]
    }
   ],
   "source": [
    "# IVARS from Experiment 1\n",
    "cols = results.parameters.keys()\n",
    "results.ivars[cols]"
   ]
  },
  {
   "cell_type": "code",
   "execution_count": 29,
   "metadata": {},
   "outputs": [],
   "source": [
    "def ishigami(x, a=7, b=0.1):\n",
    "    '''Ishigami test function'''\n",
    "    # check whether the input x is a dataframe\n",
    "    \n",
    "    if not isinstance(x, (pd.core.frame.DataFrame, pd.core.series.Series, np.ndarray, list)):\n",
    "        raise TypeError('`x` must be of type pandas.DataFrame, numpy.ndarray, pd.Series, or list')\n",
    "    \n",
    "    if len(x) > 3:\n",
    "        raise ValueError('`x` must have only three arguments at a time')\n",
    "    \n",
    "    return np.sin(x[0]) + a*(np.sin(x[1])**2) + b*(x[2]**4)*np.sin(x[0])"
   ]
  },
  {
   "cell_type": "code",
   "execution_count": 30,
   "metadata": {},
   "outputs": [],
   "source": [
    "ishigami_model = Model(ishigami)"
   ]
  },
  {
   "cell_type": "code",
   "execution_count": 31,
   "metadata": {},
   "outputs": [
    {
     "name": "stderr",
     "output_type": "stream",
     "text": [
      "/var/folders/tn/_5w3fjw13jn7qf4h0l1cqc040000gn/T/ipykernel_17307/2295546794.py:11: FutureWarning: Series.__getitem__ treating keys as positions is deprecated. In a future version, integer keys will always be treated as labels (consistent with DataFrame behavior). To access a value by position, use `ser.iloc[pos]`\n",
      "  return np.sin(x[0]) + a*(np.sin(x[1])**2) + b*(x[2]**4)*np.sin(x[0])\n"
     ]
    },
    {
     "data": {
      "text/plain": [
       "0.0"
      ]
     },
     "execution_count": 31,
     "metadata": {},
     "output_type": "execute_result"
    }
   ],
   "source": [
    "x=pd.Series({#name  #value\n",
    "             'x1'   : 0 ,\n",
    "             'x2'   : 0 ,\n",
    "             'x3'   : 0 ,\n",
    "             })\n",
    "ishigami_model(x)"
   ]
  },
  {
   "cell_type": "code",
   "execution_count": 32,
   "metadata": {},
   "outputs": [],
   "source": [
    "# Define Experiment 1\n",
    "\n",
    "my_parameters = { 'x1': [ -3.14, 3.14 ], \n",
    "                  'x2': [ -3.14, 3.14 ], \n",
    "                  'x3': [ -3.14, 3.14 ], }\n",
    "\n",
    "experiment_1 = VARS(parameters     = my_parameters,\n",
    "                    num_stars      = 100,\n",
    "                    delta_h        = 0.1,\n",
    "                    ivars_scales   = (0.1, 0.3, 0.5),\n",
    "                    sampler        = 'lhs',\n",
    "                    seed           = 123456789,\n",
    "                    model          = ishigami_model,\n",
    "                    bootstrap_flag = True,\n",
    "                    bootstrap_size = 100,\n",
    "                    bootstrap_ci   = 0.9,\n",
    "                    grouping_flag  = True,\n",
    "                    num_grps       = 2,\n",
    "                    report_verbose = True,\n",
    "                    )"
   ]
  },
  {
   "cell_type": "code",
   "execution_count": 33,
   "metadata": {},
   "outputs": [
    {
     "name": "stderr",
     "output_type": "stream",
     "text": [
      "model evaluation:   0%|          | 0/2800 [00:00<?, ?it/s]/var/folders/tn/_5w3fjw13jn7qf4h0l1cqc040000gn/T/ipykernel_17307/2295546794.py:11: FutureWarning: Series.__getitem__ treating keys as positions is deprecated. In a future version, integer keys will always be treated as labels (consistent with DataFrame behavior). To access a value by position, use `ser.iloc[pos]`\n",
      "  return np.sin(x[0]) + a*(np.sin(x[1])**2) + b*(x[2]**4)*np.sin(x[0])\n",
      "model evaluation: 100%|██████████| 2800/2800 [00:00<00:00, 12804.80it/s]\n",
      "building pairs: 100%|██████████| 300/300 [00:00<00:00, 333.63it/s]\n",
      "VARS analysis: 100%|██████████| 10/10 [00:00<00:00, 220.03it/s]\n",
      "factor ranking: 100%|██████████| 2/2 [00:00<00:00, 1185.50it/s]\n",
      "bootstrapping and grouping: 100%|██████████| 100/100 [00:14<00:00,  6.72it/s]\n",
      "/Users/dylanschubert/anaconda3/envs/msc_project/lib/python3.12/site-packages/varstool/sensitivity_analysis/vars_funcs.py:989: FutureWarning: Series.__getitem__ treating keys as positions is deprecated. In a future version, integer keys will always be treated as labels (consistent with DataFrame behavior). To access a value by position, use `ser.iloc[pos]`\n",
      "  result_bs_sobol_ranking[param].eq(st_factor_ranking[param][0]).sum() / bootstrap_size)\n"
     ]
    }
   ],
   "source": [
    "experiment_1.run_online()"
   ]
  },
  {
   "cell_type": "code",
   "execution_count": 46,
   "metadata": {},
   "outputs": [
    {
     "name": "stdout",
     "output_type": "stream",
     "text": [
      "           x1        x2        x3\n",
      "0.1  0.066097  0.229198  0.059902\n",
      "0.3  0.961455  2.147283  0.574615\n",
      "0.5  3.313248  3.035793  1.461225\n"
     ]
    }
   ],
   "source": [
    "print(experiment_1.ivars)"
   ]
  },
  {
   "cell_type": "code",
   "execution_count": 34,
   "metadata": {},
   "outputs": [
    {
     "data": {
      "text/html": [
       "<div>\n",
       "<style scoped>\n",
       "    .dataframe tbody tr th:only-of-type {\n",
       "        vertical-align: middle;\n",
       "    }\n",
       "\n",
       "    .dataframe tbody tr th {\n",
       "        vertical-align: top;\n",
       "    }\n",
       "\n",
       "    .dataframe thead th {\n",
       "        text-align: right;\n",
       "    }\n",
       "</style>\n",
       "<table border=\"1\" class=\"dataframe\">\n",
       "  <thead>\n",
       "    <tr style=\"text-align: right;\">\n",
       "      <th></th>\n",
       "      <th>x1</th>\n",
       "      <th>x2</th>\n",
       "      <th>x3</th>\n",
       "    </tr>\n",
       "  </thead>\n",
       "  <tbody>\n",
       "    <tr>\n",
       "      <th>0.1</th>\n",
       "      <td>0.066097</td>\n",
       "      <td>0.229198</td>\n",
       "      <td>0.059902</td>\n",
       "    </tr>\n",
       "    <tr>\n",
       "      <th>0.3</th>\n",
       "      <td>0.961455</td>\n",
       "      <td>2.147283</td>\n",
       "      <td>0.574615</td>\n",
       "    </tr>\n",
       "    <tr>\n",
       "      <th>0.5</th>\n",
       "      <td>3.313248</td>\n",
       "      <td>3.035793</td>\n",
       "      <td>1.461225</td>\n",
       "    </tr>\n",
       "  </tbody>\n",
       "</table>\n",
       "</div>"
      ],
      "text/plain": [
       "           x1        x2        x3\n",
       "0.1  0.066097  0.229198  0.059902\n",
       "0.3  0.961455  2.147283  0.574615\n",
       "0.5  3.313248  3.035793  1.461225"
      ]
     },
     "execution_count": 34,
     "metadata": {},
     "output_type": "execute_result"
    }
   ],
   "source": [
    "# IVARS from Experiment 1\n",
    "cols = experiment_1.parameters.keys()\n",
    "experiment_1.ivars[cols]"
   ]
  },
  {
   "cell_type": "code",
   "execution_count": 35,
   "metadata": {},
   "outputs": [
    {
     "data": {
      "image/png": "[encoded data removed]",
      "text/plain": [
       "<Figure size 1000x500 with 1 Axes>"
      ]
     },
     "metadata": {},
     "output_type": "display_data"
    },
    {
     "data": {
      "image/png": "[encoded data removed]",
      "text/plain": [
       "<Figure size 1000x500 with 1 Axes>"
      ]
     },
     "metadata": {},
     "output_type": "display_data"
    }
   ],
   "source": [
    "# Plot IVARS from Experiment 1\n",
    "ivars_scale = 0.5 # Choose the scale range of interest, e.g., 0.1, 0.3, or 0.5\n",
    "\n",
    "cols = experiment_1.parameters.keys()                     \n",
    "fig_bar = plt.figure(figsize=(10,5))\n",
    "plt.gca().bar(cols, experiment_1.ivars.loc[pd.IndexSlice[ ivars_scale ]][cols], color='gold')\n",
    "plt.gca().set_title (r'Integrated variogram Across a Range of Scales', fontsize = 15)\n",
    "plt.gca().set_ylabel(r'IVARS-50 (Total-Variogram Effect)', fontsize = 13)\n",
    "plt.gca().set_xlabel(r'Model Parameter', fontsize=13)\n",
    "plt.gca().grid()\n",
    "plt.gca().set_yscale('linear')\n",
    "\n",
    "fig_bar = plt.figure(figsize=(10,5))\n",
    "plt.gca().bar(cols, experiment_1.ivars.loc[pd.IndexSlice[ ivars_scale ]][cols], color='gold')\n",
    "plt.gca().set_title (r'Integrated variogram Across a Range of Scales $[log-scale]$', fontsize = 15)\n",
    "plt.gca().set_ylabel(r'IVARS-50 (Total-Variogram Effect)', fontsize = 13)\n",
    "plt.gca().set_xlabel(r'Model Parameter', fontsize=13)\n",
    "plt.gca().grid()\n",
    "plt.gca().set_yscale('log')"
   ]
  }
 ],
 "metadata": {
  "kernelspec": {
   "display_name": "msc_project",
   "language": "python",
   "name": "python3"
  },
  "language_info": {
   "codemirror_mode": {
    "name": "ipython",
    "version": 3
   },
   "file_extension": ".py",
   "mimetype": "text/x-python",
   "name": "python",
   "nbconvert_exporter": "python",
   "pygments_lexer": "ipython3",
   "version": "3.12.3"
  },
  "orig_nbformat": 4
 },
 "nbformat": 4,
 "nbformat_minor": 2
}
